{
 "cells": [
  {
   "cell_type": "markdown",
   "metadata": {},
   "source": [
    "# POS tagging using modified Viterbi"
   ]
  },
  {
   "cell_type": "markdown",
   "metadata": {},
   "source": [
    "## Installing libraries"
   ]
  },
  {
   "cell_type": "code",
   "execution_count": 1,
   "metadata": {},
   "outputs": [
    {
     "name": "stdout",
     "output_type": "stream",
     "text": [
      "Requirement already satisfied: word2number in c:\\users\\apoorv\\anaconda3\\lib\\site-packages (1.1)\n"
     ]
    }
   ],
   "source": [
    "!pip install word2number"
   ]
  },
  {
   "cell_type": "markdown",
   "metadata": {},
   "source": [
    "## Importing libraries and common utility functions"
   ]
  },
  {
   "cell_type": "code",
   "execution_count": 2,
   "metadata": {},
   "outputs": [],
   "source": [
    "import nltk\n",
    "import numpy as np\n",
    "import pandas as pd\n",
    "import random\n",
    "import matplotlib.pyplot as plt\n",
    "import seaborn as sns\n",
    "import math\n",
    "import re\n",
    "\n",
    "from nltk.tokenize import word_tokenize\n",
    "\n",
    "from word2number import w2n\n",
    "\n",
    "from collections import Counter\n",
    "\n",
    "from sklearn.model_selection import train_test_split\n",
    "\n",
    "def get_diff_bet_tagged_cases(tagged_seq, default_seq, comparing_incorrect = True):\n",
    "    diff_bet_tagged_cases = [[default_seq[i-1],j] for i, j in enumerate(zip(default_seq, tagged_seq)) if j[0]!=j[1]]\n",
    "    if comparing_incorrect:\n",
    "        print('Total incorrect tag cases : {}'.format(len(diff_bet_tagged_cases)))\n",
    "    else:\n",
    "        print('Total different tag cases : {}'.format(len(diff_bet_tagged_cases)))\n",
    "    return diff_bet_tagged_cases\n",
    "\n",
    "def get_most_common_diff_tags(diff_bet_tagged_cases, top_n_rows = 10, comparing_incorrect = True):\n",
    "    diff_bet_tag_seq_list = [(previous[1], current[0][1], current[1][1]) for previous, current in diff_bet_tagged_cases]\n",
    "    most_common_tag_seq_list = list(Counter(diff_bet_tag_seq_list).most_common(top_n_rows))\n",
    "    if comparing_incorrect:\n",
    "        print('Most common incorrect tagged sequence: \\n')\n",
    "        print('Previous, Correct, Incorrect:')\n",
    "    else:\n",
    "        print('Most common different tagged sequence: \\n')\n",
    "        print('Previous, Default, Predicted:')\n",
    "    \n",
    "    display(most_common_tag_seq_list)\n",
    "    return most_common_tag_seq_list\n",
    "\n",
    "def get_most_common_words_for_diff_bet_tag(diff_bet_tagged_cases, tag_seq, comparing_incorrect = True):\n",
    "    most_common_diff_words = [(previous, current[0], current[1]) for previous, current in diff_bet_tagged_cases \\\n",
    "                                   if previous[1] == tag_seq[0] and current[0][1] == tag_seq[1] \n",
    "                                    and current[1][1] == tag_seq[2]]\n",
    "    if comparing_incorrect:\n",
    "        print('Most common incorrect tag words:')\n",
    "        print('Previous, Correct, Incorrect:')\n",
    "    else:\n",
    "        print('Most common different tag words:')\n",
    "        print('Previous, Default, Predicted:')\n",
    "    display(most_common_diff_words)\n",
    "    return most_common_diff_words\n",
    "    \n",
    "    \n",
    "def check_accuracy(tagged_seq, run_base):\n",
    "    check = [i for i, j in zip(tagged_seq, run_base) if i == j] \n",
    "    accuracy = len(check)/len(run_base)\n",
    "    print('Accuracy : {}'.format(accuracy))\n",
    "    \n",
    "def frequency_distribution_for_word_tags(incorrect_word_tags):\n",
    "    total_tags_per_words = {tup[1][0]:[] for tup in incorrect_word_tags}\n",
    "\n",
    "    for i, tup in enumerate(validation_tagged_words):\n",
    "        if tup[0] in total_tags_per_words:\n",
    "            total_tags_per_words[tup[0]].append(tup[1])\n",
    "\n",
    "    num_rows = math.ceil(len(total_tags_per_words) / 3)  if len(total_tags_per_words) > 3 else len(total_tags_per_words)\n",
    "    col_rows = 3 if len(total_tags_per_words) > 3 else len(total_tags_per_words)\n",
    "\n",
    "    plt.figure(figsize=(10*col_rows, 5*num_rows))\n",
    "    for i, word in enumerate(total_tags_per_words):\n",
    "        plt.subplot(num_rows, col_rows, i+1)\n",
    "        ax = sns.countplot(total_tags_per_words[word])\n",
    "        ax.set_title('Tags freq distribution - {}'.format(word))\n",
    "        \n",
    "    plt.show()\n",
    "    \n",
    "def tags_distribution_for_pattern(pattern, tag_seq):\n",
    "    words_matching_pattern = [pair for pair in tag_seq if re.search(pattern, pair[0])]\n",
    "    total_words_matching_pattern = len(words_matching_pattern)\n",
    "    print('Total words matching pattern : {}'.format(total_words_matching_pattern))\n",
    "\n",
    "    words_matching_pattern_tags = [pair[1] for pair in words_matching_pattern]\n",
    "    words_matching_pattern_most_common_tags = Counter(words_matching_pattern_tags).most_common(10)\n",
    "    print('\\nMost common tags for words matching pattern :')\n",
    "    print(words_matching_pattern_most_common_tags)\n",
    "    \n",
    "    print('\\nTag Ratios : ')\n",
    "    print('Tag , Ratio')\n",
    "    for most_common_tag in words_matching_pattern_most_common_tags:\n",
    "        tag = most_common_tag[0]\n",
    "        words_matching_pattern_with_tag = [pair for pair in words_matching_pattern if pair[1] == tag]\n",
    "        total_words_matching_pattern_with_tag = len(words_matching_pattern_with_tag)\n",
    "        print('{} , {} '.format(tag, round((total_words_matching_pattern_with_tag/total_words_matching_pattern)*100,2)))\n",
    "        \n",
    "    return words_matching_pattern\n",
    "        \n",
    "def get_incorrect_tagged_words(incorrect_tagged_cases):\n",
    "    return [current[0] for previous, current in incorrect_tagged_cases]\n",
    "\n",
    "def find_metrics_for_updated_viterbi(updated_incorrect_tagged_cases, difference_with_default_tagged_cases):\n",
    "    incorrect_tagged_words = [(previous[0], current[0][0]) for previous, current in updated_incorrect_tagged_cases]\n",
    "    corrected_tagged_cases = [(previous, current[0], current[1]) for previous, current in \\\n",
    "                              difference_with_default_tagged_cases \n",
    "                         if (previous[0], current[0][0]) not in incorrect_tagged_words]\n",
    "    incorrect_tagged_cases = [(previous, current[0], current[1]) for previous, current in \\\n",
    "                              difference_with_default_tagged_cases \n",
    "                         if (previous[0], current[0][0]) in incorrect_tagged_words]\n",
    "    print('Total updated correct tag cases : {}'.format(len(corrected_tagged_cases)))\n",
    "    print('Previous, Default, Correct')\n",
    "    display(corrected_tagged_cases)\n",
    "    \n",
    "    print('Total updated incorrect tag cases : {}'.format(len(incorrect_tagged_cases)))\n",
    "    print('Previous, Default, Incorrect')\n",
    "    display(incorrect_tagged_cases)"
   ]
  },
  {
   "cell_type": "markdown",
   "metadata": {},
   "source": [
    "## Downloading nltk data"
   ]
  },
  {
   "cell_type": "code",
   "execution_count": 3,
   "metadata": {
    "scrolled": true
   },
   "outputs": [
    {
     "name": "stderr",
     "output_type": "stream",
     "text": [
      "[nltk_data] Downloading package treebank to\n",
      "[nltk_data]     C:\\Users\\Apoorv\\AppData\\Roaming\\nltk_data...\n",
      "[nltk_data]   Package treebank is already up-to-date!\n",
      "[nltk_data] Downloading package universal_tagset to\n",
      "[nltk_data]     C:\\Users\\Apoorv\\AppData\\Roaming\\nltk_data...\n",
      "[nltk_data]   Package universal_tagset is already up-to-date!\n"
     ]
    },
    {
     "data": {
      "text/plain": [
       "True"
      ]
     },
     "execution_count": 3,
     "metadata": {},
     "output_type": "execute_result"
    }
   ],
   "source": [
    "nltk.download('treebank')\n",
    "nltk.download('universal_tagset')"
   ]
  },
  {
   "cell_type": "markdown",
   "metadata": {},
   "source": [
    "## Data Preparation"
   ]
  },
  {
   "cell_type": "markdown",
   "metadata": {},
   "source": [
    "### Reading nltk data"
   ]
  },
  {
   "cell_type": "code",
   "execution_count": 4,
   "metadata": {},
   "outputs": [
    {
     "name": "stdout",
     "output_type": "stream",
     "text": [
      "Total data : 3914\n"
     ]
    }
   ],
   "source": [
    "# reading the Treebank tagged sentences\n",
    "nltk_data = list(nltk.corpus.treebank.tagged_sents(tagset='universal'))\n",
    "\n",
    "nltk_data_sorted = sorted(nltk_data)\n",
    "\n",
    "print('Total data : {}'.format(len(nltk_data_sorted)))"
   ]
  },
  {
   "cell_type": "markdown",
   "metadata": {},
   "source": [
    "### Reading test data"
   ]
  },
  {
   "cell_type": "code",
   "execution_count": 5,
   "metadata": {},
   "outputs": [
    {
     "name": "stdout",
     "output_type": "stream",
     "text": [
      "Total test set : 11\n",
      "\n",
      "Test set samples : \n",
      "[['Android', 'is', 'a', 'mobile', 'operating', 'system', 'developed', 'by', 'Google', '.'], ['Android', 'has', 'been', 'the', 'best-selling', 'OS', 'worldwide', 'on', 'smartphones', 'since', '2011', 'and', 'on', 'tablets', 'since', '2013', '.']]\n"
     ]
    }
   ],
   "source": [
    "test_file = open(\"Test_sentences.txt\", \"rb\")\n",
    "test_set = [word_tokenize(sent) for sent in test_file.read().decode(\"utf-8\").splitlines() if len(sent) > 0]\n",
    "print('Total test set : {}'.format(len(test_set)))\n",
    "print('\\nTest set samples : ')\n",
    "print(test_set[:2])"
   ]
  },
  {
   "cell_type": "markdown",
   "metadata": {},
   "source": [
    "### Splitting training and validation data set"
   ]
  },
  {
   "cell_type": "code",
   "execution_count": 6,
   "metadata": {},
   "outputs": [
    {
     "name": "stdout",
     "output_type": "stream",
     "text": [
      "Total train set : 3718\n",
      "\n",
      "Train set samples : \n",
      "[[('Late', 'ADV'), ('that', 'DET'), ('afternoon', 'NOUN'), ('the', 'DET'), ('S&P', 'NOUN'), ('500', 'NUM'), ('stock-index', 'ADJ'), ('futures', 'NOUN'), ('contract', 'NOUN'), ('fell', 'VERB'), ('a', 'DET'), ('total', 'NOUN'), ('of', 'ADP'), ('30', 'NUM'), ('index', 'NOUN'), ('points', 'NOUN'), (',', '.'), ('*-1', 'X'), ('hitting', 'VERB'), ('a', 'DET'), ('Merc', 'NOUN'), ('circuit', 'NOUN'), ('breaker', 'NOUN'), ('limit', 'NOUN'), ('that', 'DET'), ('*T*-210', 'X'), ('remained', 'VERB'), ('in', 'ADP'), ('effect', 'NOUN'), ('for', 'ADP'), ('the', 'DET'), ('rest', 'NOUN'), ('of', 'ADP'), ('the', 'DET'), ('trading', 'NOUN'), ('session', 'NOUN'), ('.', '.')], [('It', 'PRON'), ('ended', 'VERB'), ('the', 'DET'), ('day', 'NOUN'), ('up', 'ADV'), ('80', 'NUM'), ('yen', 'NOUN'), ('-LRB-', '.'), ('56', 'NUM'), ('cents', 'NOUN'), ('-RRB-', '.'), ('to', 'PRT'), ('1,880', 'NUM'), ('yen', 'NOUN'), ('-LRB-', '.'), ('$', '.'), ('13.15', 'NUM'), ('*U*', 'X'), ('-RRB-', '.'), ('.', '.')]]\n",
      "\n",
      "Total validation set : 196\n",
      "\n",
      "Validation set samples : \n",
      "[[('In', 'ADP'), ('a', 'DET'), ('few', 'ADJ'), ('weeks', 'NOUN'), (',', '.'), ('many', 'ADJ'), ('barges', 'NOUN'), ('probably', 'ADV'), ('wo', 'VERB'), (\"n't\", 'ADV'), ('be', 'VERB'), ('able', 'ADJ'), ('*-2', 'X'), ('to', 'PRT'), ('operate', 'VERB'), ('fully', 'ADV'), ('loaded', 'VERB'), ('south', 'ADV'), ('of', 'ADP'), ('St.', 'NOUN'), ('Louis', 'NOUN'), ('because', 'ADP'), ('the', 'DET'), ('U.S.', 'NOUN'), ('Army', 'NOUN'), ('Corps', 'NOUN'), ('of', 'ADP'), ('Engineers', 'NOUN'), ('is', 'VERB'), ('beginning', 'VERB'), ('*-3', 'X'), ('to', 'PRT'), ('reduce', 'VERB'), ('the', 'DET'), ('flow', 'NOUN'), ('of', 'ADP'), ('the', 'DET'), ('Missouri', 'NOUN'), ('River', 'NOUN'), (',', '.'), ('which', 'DET'), ('*T*-1', 'X'), ('feeds', 'VERB'), ('into', 'ADP'), ('the', 'DET'), ('Mississippi', 'NOUN'), ('River', 'NOUN'), ('.', '.')], [('Today', 'NOUN'), (',', '.'), ('PC', 'NOUN'), ('shipments', 'NOUN'), ('annually', 'ADV'), ('total', 'VERB'), ('some', 'DET'), ('$', '.'), ('38.3', 'NUM'), ('billion', 'NUM'), ('*U*', 'X'), ('world-wide', 'ADJ'), ('.', '.')]]\n"
     ]
    }
   ],
   "source": [
    "train_set, validation_set = train_test_split(nltk_data_sorted, test_size = 0.05, random_state = 100)\n",
    "\n",
    "print('Total train set : {}'.format(len(train_set)))\n",
    "print('\\nTrain set samples : ')\n",
    "print(train_set[:2])\n",
    "\n",
    "print('\\nTotal validation set : {}'.format(len(validation_set)))\n",
    "print('\\nValidation set samples : ')\n",
    "print(validation_set[:2])"
   ]
  },
  {
   "cell_type": "markdown",
   "metadata": {},
   "source": [
    "### Training Data"
   ]
  },
  {
   "cell_type": "markdown",
   "metadata": {},
   "source": [
    "#### Preparing data"
   ]
  },
  {
   "cell_type": "code",
   "execution_count": 7,
   "metadata": {},
   "outputs": [
    {
     "name": "stdout",
     "output_type": "stream",
     "text": [
      "Total train tagged words : 95581\n"
     ]
    }
   ],
   "source": [
    "train_tagged_words = [tup for sent in train_set for tup in sent]\n",
    "print('Total train tagged words : {}'.format(len(train_tagged_words)))"
   ]
  },
  {
   "cell_type": "markdown",
   "metadata": {},
   "source": [
    "#### Exploring data"
   ]
  },
  {
   "cell_type": "code",
   "execution_count": 8,
   "metadata": {},
   "outputs": [
    {
     "name": "stdout",
     "output_type": "stream",
     "text": [
      "Total training tokens : 95581\n",
      "\n",
      "Total training vocabulary : 12100\n",
      "\n",
      "Most common training tokens : \n",
      "[(',', 4649), ('the', 3855), ('.', 3633), ('of', 2204), ('to', 2052), ('a', 1776), ('in', 1490), ('and', 1443), ('*-1', 1064), ('0', 1029)]\n",
      "\n",
      "Total training tags : 12\n",
      "\n",
      "Most common training tags :\n",
      "[('NOUN', 27441), ('VERB', 12836), ('.', 11137), ('ADP', 9346), ('DET', 8284), ('X', 6251), ('ADJ', 6093), ('NUM', 3412), ('PRT', 3059), ('ADV', 3004), ('PRON', 2557), ('CONJ', 2161)]\n"
     ]
    }
   ],
   "source": [
    "training_tokens = [pair[0] for pair in train_tagged_words]\n",
    "print('Total training tokens : {}'.format(len(training_tokens)))\n",
    "\n",
    "training_vocab = list(set(training_tokens))\n",
    "print('\\nTotal training vocabulary : {}'.format(len(training_vocab)))\n",
    "\n",
    "print('\\nMost common training tokens : ')\n",
    "print(Counter(training_tokens).most_common(10))\n",
    "\n",
    "training_tags = Counter(pair[1] for pair in train_tagged_words).most_common(20)\n",
    "print('\\nTotal training tags : {}'.format(len(training_tags)))\n",
    "print('\\nMost common training tags :')\n",
    "print(training_tags)"
   ]
  },
  {
   "cell_type": "markdown",
   "metadata": {},
   "source": [
    "### Validation Data"
   ]
  },
  {
   "cell_type": "markdown",
   "metadata": {},
   "source": [
    "#### Preparing data"
   ]
  },
  {
   "cell_type": "code",
   "execution_count": 9,
   "metadata": {},
   "outputs": [
    {
     "name": "stdout",
     "output_type": "stream",
     "text": [
      "Total validation tagged words : 5095\n"
     ]
    }
   ],
   "source": [
    "validation_tagged_words = [tup for sent in validation_set for tup in sent]\n",
    "validation_words = [tup[0] for tup in validation_tagged_words]\n",
    "print('Total validation tagged words : {}'.format(len(validation_tagged_words)))"
   ]
  },
  {
   "cell_type": "markdown",
   "metadata": {},
   "source": [
    "#### Exploring data"
   ]
  },
  {
   "cell_type": "code",
   "execution_count": 10,
   "metadata": {},
   "outputs": [
    {
     "name": "stdout",
     "output_type": "stream",
     "text": [
      "Total validation tokens : 5095\n",
      "\n",
      "Total validation vocabulary : 1906\n",
      "\n",
      "Most common validation tokens : \n",
      "[(',', 236), ('.', 195), ('the', 190), ('of', 115), ('to', 112), ('a', 102), ('in', 82), ('0', 70), ('and', 68), ('*', 64)]\n",
      "\n",
      "Total validation tags : 12\n",
      "\n",
      "Most common validation tags :\n",
      "[('NOUN', 1426), ('VERB', 728), ('.', 578), ('ADP', 511), ('DET', 441), ('X', 362), ('ADJ', 304), ('PRON', 180), ('ADV', 167), ('PRT', 160), ('NUM', 134), ('CONJ', 104)]\n"
     ]
    }
   ],
   "source": [
    "print('Total validation tokens : {}'.format(len(validation_words)))\n",
    "\n",
    "validation_vocab = list(set(validation_words))\n",
    "print('\\nTotal validation vocabulary : {}'.format(len(validation_vocab)))\n",
    "\n",
    "print('\\nMost common validation tokens : ')\n",
    "print(Counter(validation_words).most_common(10))\n",
    "\n",
    "validation_tags = Counter(pair[1] for pair in validation_tagged_words).most_common(20)\n",
    "print('\\nTotal validation tags : {}'.format(len(validation_tags)))\n",
    "print('\\nMost common validation tags :')\n",
    "print(validation_tags)"
   ]
  },
  {
   "cell_type": "markdown",
   "metadata": {},
   "source": [
    "### Test Data"
   ]
  },
  {
   "cell_type": "markdown",
   "metadata": {},
   "source": [
    "#### Preparing data"
   ]
  },
  {
   "cell_type": "code",
   "execution_count": 11,
   "metadata": {},
   "outputs": [
    {
     "name": "stdout",
     "output_type": "stream",
     "text": [
      "Total test words : 181\n"
     ]
    }
   ],
   "source": [
    "test_words = [word for sent in test_set for word in sent]\n",
    "print('Total test words : {}'.format(len(test_words)))"
   ]
  },
  {
   "cell_type": "markdown",
   "metadata": {},
   "source": [
    "##### Evaluating POS tags for test sentences using online tool to approximate accuracy:"
   ]
  },
  {
   "cell_type": "markdown",
   "metadata": {},
   "source": [
    "For correct approximation, following steps have been formed:\n",
    "\n",
    "1) Get results of test sentence from spacy online tool: http://textanalysisonline.com/spacy-pos-tagging\n",
    "\n",
    "2) Replaced PUNCT with . and PART with PRT</b> to match nltk universal tags in results\n",
    "\n",
    "3) Replaced best-selling|ADV -|. selling|VERB from result to with best-selling|ADJ to match test parsed tokens based on other POS tagging tool : https://parts-of-speech.info/"
   ]
  },
  {
   "cell_type": "code",
   "execution_count": 12,
   "metadata": {},
   "outputs": [],
   "source": [
    "test_spacy_results = [\n",
    "\"Android|NOUN is|VERB a|DET mobile|ADJ operating|VERB system|NOUN developed|VERB by|ADP Google|NOUN .|.\",\n",
    "\n",
    "\"Android|NOUN has|VERB been|VERB the|DET best-selling|ADJ OS|NOUN worldwide|ADV on|ADP smartphones|NOUN since|ADP 2011|NUM and|CONJ on|ADP tablets|NOUN since|ADP 2013|NUM .|.\",\n",
    "\n",
    "\"Google|NOUN and|CONJ Twitter|NOUN made|VERB a|DET deal|NOUN in|ADP 2015|NUM that|ADJ gave|VERB Google|NOUN access|NOUN to|ADP Twitter|NOUN 's|PRT firehose|NOUN .|.\",\n",
    "\n",
    "\"Twitter|NOUN is|VERB an|DET online|ADJ news|NOUN and|CONJ social|ADJ networking|NOUN service|NOUN on|ADP which|ADJ users|NOUN post|VERB and|CONJ interact|VERB with|ADP messages|NOUN known|VERB as|ADP tweets|NOUN .|.\",\n",
    "\n",
    "\"Before|ADP entering|VERB politics|NOUN ,|. Donald|NOUN Trump|NOUN was|VERB a|DET domineering|ADJ businessman|NOUN and|CONJ a|DET television|NOUN personality|NOUN .|.\",\n",
    "\n",
    "\"The|DET 2018|NUM FIFA|NOUN World|NOUN Cup|NOUN is|VERB the|DET 21st|ADJ FIFA|NOUN World|NOUN Cup|NOUN ,|. an|DET international|ADJ football|NOUN tournament|NOUN contested|VERB once|ADV every|DET four|NUM years|NOUN .|.\", \n",
    "\n",
    "\"This|DET is|VERB the|DET first|ADJ World|NOUN Cup|NOUN to|PRT be|VERB held|VERB in|ADP Eastern|NOUN Europe|NOUN and|CONJ the|DET 11th|ADJ time|NOUN that|ADJ it|NOUN has|VERB been|VERB held|VERB in|ADP Europe|NOUN .|.\",\n",
    "\n",
    "\"Show|NOUN me|NOUN the|DET cheapest|ADJ round|NOUN trips|NOUN from|ADP Dallas|NOUN to|ADP Atlanta|NOUN\",\n",
    "\n",
    "\"I|NOUN would|VERB like|VERB to|PRT see|VERB flights|NOUN from|ADP Denver|NOUN to|ADP Philadelphia|NOUN .|.\",\n",
    "\n",
    "\"Show|NOUN me|NOUN the|DET price|NOUN of|ADP the|DET flights|NOUN leaving|VERB Atlanta|NOUN at|ADP about|ADP 3|NUM in|ADP the|DET afternoon|NOUN and|CONJ arriving|VERB in|ADP San|NOUN Francisco|NOUN .|.\",\n",
    "\n",
    "\"NASA|NOUN invited|VERB social|ADJ media|NOUN users|NOUN to|PRT experience|VERB the|DET launch|NOUN of|ADP ICESAT-2|NOUN Satellite|NOUN .|.\"\n",
    "]"
   ]
  },
  {
   "cell_type": "markdown",
   "metadata": {},
   "source": [
    "##### Preparing test tagged data"
   ]
  },
  {
   "cell_type": "code",
   "execution_count": 13,
   "metadata": {},
   "outputs": [
    {
     "name": "stdout",
     "output_type": "stream",
     "text": [
      "Total test tagged words : 181\n",
      "Extra tokens present in tagged results : []\n"
     ]
    }
   ],
   "source": [
    "test_tagged_sents = [sent.split(\" \") for sent in test_spacy_results]\n",
    "\n",
    "test_tagged_words = [tuple(tagged_word.split(\"|\")) for tagged_sent in test_tagged_sents for tagged_word in tagged_sent]\n",
    "\n",
    "print('Total test tagged words : {}'.format(len(test_tagged_words)))\n",
    "print('Extra tokens present in tagged results : {}'\n",
    "      .format([pair for pair in test_tagged_words if pair[0] not in test_words]))"
   ]
  },
  {
   "cell_type": "markdown",
   "metadata": {},
   "source": [
    "#### Exploring data"
   ]
  },
  {
   "cell_type": "code",
   "execution_count": 14,
   "metadata": {},
   "outputs": [
    {
     "name": "stdout",
     "output_type": "stream",
     "text": [
      "Total test tokens : 181\n",
      "\n",
      "Total test vocabulary : 115\n",
      "\n",
      "Most common test tokens : \n",
      "[('.', 10), ('the', 9), ('and', 7), ('to', 6), ('in', 5), ('is', 4), ('a', 4), ('Google', 3), ('on', 3), ('Twitter', 3)]\n",
      "\n",
      "Total test tags : 10\n",
      "\n",
      "Most common test tags :\n",
      "[('NOUN', 67), ('VERB', 28), ('ADP', 23), ('DET', 18), ('ADJ', 14), ('.', 12), ('CONJ', 7), ('NUM', 6), ('PRT', 4), ('ADV', 2)]\n"
     ]
    }
   ],
   "source": [
    "print('Total test tokens : {}'.format(len(test_words)))\n",
    "\n",
    "test_vocab = list(set(test_words))\n",
    "print('\\nTotal test vocabulary : {}'.format(len(test_vocab)))\n",
    "\n",
    "print('\\nMost common test tokens : ')\n",
    "print(Counter(test_words).most_common(10))\n",
    "\n",
    "test_tags = Counter(pair[1] for pair in test_tagged_words).most_common(20)\n",
    "\n",
    "print('\\nTotal test tags : {}'.format(len(test_tags)))\n",
    "print('\\nMost common test tags :')\n",
    "print(test_tags)"
   ]
  },
  {
   "cell_type": "markdown",
   "metadata": {},
   "source": [
    "## Build the Vanilla Viterbi based POS tagger"
   ]
  },
  {
   "cell_type": "markdown",
   "metadata": {},
   "source": [
    "### Implementing Vanilla Viterbi"
   ]
  },
  {
   "cell_type": "code",
   "execution_count": 15,
   "metadata": {},
   "outputs": [],
   "source": [
    "class VanillaViterbiTagger(nltk.TaggerI):\n",
    "    def __init__(self, train_bag):\n",
    "        self.train_data = train_bag\n",
    "        self.vocab = set([pair[0] for pair in self.train_data])\n",
    "        self.tags = sorted(set([pair[1] for pair in self.train_data]))\n",
    "        self.tags_matrix = np.zeros((len(self.tags), len(self.tags)), dtype = 'float32')\n",
    "        \n",
    "        for i, t1 in enumerate(self.tags):\n",
    "            for j, t2 in enumerate(self.tags):\n",
    "                self.tags_matrix[i,j] = self.get_transition_probability(t2, t1)\n",
    "        \n",
    "        self.tags_df = pd.DataFrame(self.tags_matrix, columns = self.tags, index=self.tags)\n",
    "        \n",
    "    def get_emission_probability(self, word, tag):\n",
    "        '''Returns Emission Probabilities'''\n",
    "        tag_list = [pair for pair in self.train_data if tag == pair[1]]\n",
    "        count_tag = len(tag_list)\n",
    "        w_given_tag_list = [pair[0] for pair in tag_list if word == pair[0]]\n",
    "        count_w_given_tag = len(w_given_tag_list)\n",
    "    \n",
    "        return (count_w_given_tag / count_tag)\n",
    "    \n",
    "    def get_transition_probability(self, t2, t1):\n",
    "        '''Returns Transition Probabilties''' \n",
    "        tags = [pair[1] for pair in self.train_data]\n",
    "        count_t1 = len([tag for tag in tags if tag == t1])\n",
    "        count_t2_given_t1 = 0\n",
    "        for index in range(len(tags) -1):\n",
    "            if tags[index] == t1 and tags[index + 1] == t2:\n",
    "                count_t2_given_t1 += 1\n",
    "        return (count_t2_given_t1 / count_t1) \n",
    "\n",
    "    def tag(self, words):\n",
    "        state = []\n",
    "        for index, word in enumerate(words):\n",
    "            p = []\n",
    "            for tag in self.tags:\n",
    "                if index == 0:\n",
    "                    transition_p = self.tags_df.loc['.', tag]\n",
    "                else:\n",
    "                    transition_p = self.tags_df.loc[state[-1], tag]\n",
    "\n",
    "                emission_prob = self.get_emission_probability(word, tag)\n",
    "                state_prob = emission_prob * transition_p\n",
    "                p.append(state_prob)\n",
    "                \n",
    "            pmax = max(p)\n",
    "            state_max = self.tags[p.index(pmax)]\n",
    "            state.append(state_max)\n",
    "\n",
    "        return list(zip(words, state))        "
   ]
  },
  {
   "cell_type": "markdown",
   "metadata": {},
   "source": [
    "### Instantiating Vanilla Viterbi"
   ]
  },
  {
   "cell_type": "code",
   "execution_count": 16,
   "metadata": {},
   "outputs": [],
   "source": [
    "vanilla_viterbi = VanillaViterbiTagger(train_tagged_words)"
   ]
  },
  {
   "cell_type": "markdown",
   "metadata": {},
   "source": [
    "### Validating Vanilla Viterbi implementation"
   ]
  },
  {
   "cell_type": "markdown",
   "metadata": {},
   "source": [
    "#### Validating Emission Probabilities implementation"
   ]
  },
  {
   "cell_type": "code",
   "execution_count": 17,
   "metadata": {},
   "outputs": [
    {
     "name": "stdout",
     "output_type": "stream",
     "text": [
      "0.000492\n",
      "0.000078\n"
     ]
    }
   ],
   "source": [
    "print(format(vanilla_viterbi.get_emission_probability('medium-sized', 'ADJ'), 'f'))\n",
    "print(format(vanilla_viterbi.get_emission_probability('altered', 'VERB'), 'f'))"
   ]
  },
  {
   "cell_type": "markdown",
   "metadata": {},
   "source": [
    "#### Validating Transition Probabilities implementation"
   ]
  },
  {
   "cell_type": "code",
   "execution_count": 18,
   "metadata": {},
   "outputs": [
    {
     "name": "stdout",
     "output_type": "stream",
     "text": [
      "0.700640\n",
      "0.637132\n",
      "0.110081\n",
      "0.173027\n",
      "0.222502\n"
     ]
    }
   ],
   "source": [
    "print(format(vanilla_viterbi.get_transition_probability('NOUN', 'ADJ'), 'f'))\n",
    "print(format(vanilla_viterbi.get_transition_probability('NOUN', 'DET'), 'f'))\n",
    "print(format(vanilla_viterbi.get_transition_probability('NOUN', 'VERB'), 'f'))\n",
    "print(format(vanilla_viterbi.get_transition_probability('DET', '.'), 'f'))\n",
    "print(format(vanilla_viterbi.get_transition_probability('NOUN', '.'), 'f'))"
   ]
  },
  {
   "cell_type": "markdown",
   "metadata": {},
   "source": [
    "#### Exploring Transition Probabilities"
   ]
  },
  {
   "cell_type": "code",
   "execution_count": 19,
   "metadata": {},
   "outputs": [
    {
     "data": {
      "image/png": "[encoded data removed]",
      "text/plain": [
       "<Figure size 720x360 with 2 Axes>"
      ]
     },
     "metadata": {
      "needs_background": "light"
     },
     "output_type": "display_data"
    }
   ],
   "source": [
    "plt.figure(figsize = (10,5))\n",
    "sns.heatmap(vanilla_viterbi.tags_df,annot = True)\n",
    "plt.show()"
   ]
  },
  {
   "cell_type": "markdown",
   "metadata": {},
   "source": [
    "### POS Tagging Validation Data Set with Vanilla Viterbi"
   ]
  },
  {
   "cell_type": "code",
   "execution_count": 20,
   "metadata": {},
   "outputs": [],
   "source": [
    "default_predicted_validation_tagged_words = vanilla_viterbi.tag(validation_words)"
   ]
  },
  {
   "cell_type": "markdown",
   "metadata": {},
   "source": [
    "### Checking accuracy for validation data set with Vanilla Viterbi"
   ]
  },
  {
   "cell_type": "code",
   "execution_count": 21,
   "metadata": {},
   "outputs": [
    {
     "name": "stdout",
     "output_type": "stream",
     "text": [
      "Accuracy : 0.9089303238469087\n"
     ]
    }
   ],
   "source": [
    "check_accuracy(default_predicted_validation_tagged_words, validation_tagged_words)"
   ]
  },
  {
   "cell_type": "markdown",
   "metadata": {},
   "source": [
    "### Most common incorrect tagged cases with Vanilla Viterbi"
   ]
  },
  {
   "cell_type": "code",
   "execution_count": 22,
   "metadata": {},
   "outputs": [
    {
     "name": "stdout",
     "output_type": "stream",
     "text": [
      "Total incorrect tag cases : 464\n",
      "Most common incorrect tagged sequence: \n",
      "\n",
      "Previous, Correct, Incorrect:\n"
     ]
    },
    {
     "data": {
      "text/plain": [
       "[(('NOUN', 'NOUN', '.'), 46),\n",
       " (('DET', 'NOUN', '.'), 25),\n",
       " (('ADJ', 'NOUN', '.'), 24),\n",
       " (('DET', 'ADJ', '.'), 22),\n",
       " (('.', 'NOUN', '.'), 17),\n",
       " (('ADP', 'NOUN', '.'), 14),\n",
       " (('NOUN', 'DET', 'ADP'), 13),\n",
       " (('X', 'VERB', '.'), 12),\n",
       " (('.', 'NUM', '.'), 12),\n",
       " (('VERB', 'ADJ', 'ADV'), 11)]"
      ]
     },
     "metadata": {},
     "output_type": "display_data"
    }
   ],
   "source": [
    "default_incorrect_validation_tagged_cases = get_diff_bet_tagged_cases(default_predicted_validation_tagged_words, \n",
    "                                                            validation_tagged_words)\n",
    "\n",
    "default_most_common_validation_incorrect_tags = get_most_common_diff_tags(default_incorrect_validation_tagged_cases)"
   ]
  },
  {
   "cell_type": "markdown",
   "metadata": {},
   "source": [
    "### POS Tagging Test Data Set with Vanilla Viterbi"
   ]
  },
  {
   "cell_type": "code",
   "execution_count": 23,
   "metadata": {},
   "outputs": [
    {
     "name": "stdout",
     "output_type": "stream",
     "text": [
      "[('Android', '.'), ('is', 'VERB'), ('a', 'DET'), ('mobile', 'ADJ'), ('operating', 'NOUN'), ('system', 'NOUN'), ('developed', 'VERB'), ('by', 'ADP'), ('Google', '.'), ('.', '.'), ('Android', '.'), ('has', 'VERB'), ('been', 'VERB'), ('the', 'DET'), ('best-selling', 'ADJ'), ('OS', '.'), ('worldwide', '.'), ('on', 'ADP'), ('smartphones', '.'), ('since', 'ADP'), ('2011', '.'), ('and', 'CONJ'), ('on', 'ADP'), ('tablets', 'NOUN'), ('since', 'ADP'), ('2013', '.'), ('.', '.'), ('Google', '.'), ('and', 'CONJ'), ('Twitter', '.'), ('made', 'VERB'), ('a', 'DET'), ('deal', 'NOUN'), ('in', 'ADP'), ('2015', '.'), ('that', 'DET'), ('gave', 'VERB'), ('Google', '.'), ('access', 'NOUN'), ('to', 'PRT'), ('Twitter', '.'), (\"'s\", 'VERB'), ('firehose', '.'), ('.', '.'), ('Twitter', '.'), ('is', 'VERB'), ('an', 'DET'), ('online', '.'), ('news', 'NOUN'), ('and', 'CONJ'), ('social', 'ADJ'), ('networking', 'NOUN'), ('service', 'NOUN'), ('on', 'ADP'), ('which', 'DET'), ('users', 'NOUN'), ('post', 'NOUN'), ('and', 'CONJ'), ('interact', '.'), ('with', 'ADP'), ('messages', '.'), ('known', 'VERB'), ('as', 'ADP'), ('tweets', '.'), ('.', '.'), ('Before', 'ADP'), ('entering', 'VERB'), ('politics', 'NOUN'), (',', '.'), ('Donald', 'NOUN'), ('Trump', 'NOUN'), ('was', 'VERB'), ('a', 'DET'), ('domineering', '.'), ('businessman', 'NOUN'), ('and', 'CONJ'), ('a', 'DET'), ('television', 'NOUN'), ('personality', '.'), ('.', '.'), ('The', 'DET'), ('2018', '.'), ('FIFA', '.'), ('World', 'NOUN'), ('Cup', '.'), ('is', 'VERB'), ('the', 'DET'), ('21st', '.'), ('FIFA', '.'), ('World', 'NOUN'), ('Cup', '.'), (',', '.'), ('an', 'DET'), ('international', 'ADJ'), ('football', 'NOUN'), ('tournament', '.'), ('contested', '.'), ('once', 'ADV'), ('every', 'DET'), ('four', 'NUM'), ('years', 'NOUN'), ('.', '.'), ('This', 'DET'), ('is', 'VERB'), ('the', 'DET'), ('first', 'ADJ'), ('World', 'NOUN'), ('Cup', '.'), ('to', 'PRT'), ('be', 'VERB'), ('held', 'VERB'), ('in', 'ADP'), ('Eastern', 'NOUN'), ('Europe', 'NOUN'), ('and', 'CONJ'), ('the', 'DET'), ('11th', 'ADJ'), ('time', 'NOUN'), ('that', 'ADP'), ('it', 'PRON'), ('has', 'VERB'), ('been', 'VERB'), ('held', 'VERB'), ('in', 'ADP'), ('Europe', 'NOUN'), ('.', '.'), ('Show', 'NOUN'), ('me', 'PRON'), ('the', 'DET'), ('cheapest', 'ADJ'), ('round', 'NOUN'), ('trips', '.'), ('from', 'ADP'), ('Dallas', 'NOUN'), ('to', 'PRT'), ('Atlanta', 'NOUN'), ('I', 'PRON'), ('would', 'VERB'), ('like', 'ADP'), ('to', 'PRT'), ('see', 'VERB'), ('flights', 'NOUN'), ('from', 'ADP'), ('Denver', 'NOUN'), ('to', 'PRT'), ('Philadelphia', 'NOUN'), ('.', '.'), ('Show', 'NOUN'), ('me', 'PRON'), ('the', 'DET'), ('price', 'NOUN'), ('of', 'ADP'), ('the', 'DET'), ('flights', 'NOUN'), ('leaving', 'VERB'), ('Atlanta', 'NOUN'), ('at', 'ADP'), ('about', 'ADP'), ('3', 'NUM'), ('in', 'ADP'), ('the', 'DET'), ('afternoon', 'NOUN'), ('and', 'CONJ'), ('arriving', '.'), ('in', 'ADP'), ('San', 'NOUN'), ('Francisco', 'NOUN'), ('.', '.'), ('NASA', '.'), ('invited', '.'), ('social', 'ADJ'), ('media', 'NOUN'), ('users', 'NOUN'), ('to', 'PRT'), ('experience', 'NOUN'), ('the', 'DET'), ('launch', 'NOUN'), ('of', 'ADP'), ('ICESAT-2', '.'), ('Satellite', '.'), ('.', '.')]\n"
     ]
    }
   ],
   "source": [
    "default_predicted_test_tagged_words = vanilla_viterbi.tag(test_words)\n",
    "print(default_predicted_test_tagged_words)"
   ]
  },
  {
   "cell_type": "markdown",
   "metadata": {},
   "source": [
    "## Solve the problem of unknown words"
   ]
  },
  {
   "cell_type": "markdown",
   "metadata": {},
   "source": [
    "### Modifying Vanilla Viterbi with 1st technique"
   ]
  },
  {
   "cell_type": "markdown",
   "metadata": {},
   "source": [
    "<b> If the word is not in training vocabulary then emission probability for that word becomes 0, which in turn makes the state probability as 0. Thus, effectively selecting first tag present in the tag list. This approach checks if the word is present in vocabulary and only rely on transition probability in case the word is not present in vocabulary. </b>"
   ]
  },
  {
   "cell_type": "markdown",
   "metadata": {},
   "source": [
    "#### Implementing 1st Modified Viterbi"
   ]
  },
  {
   "cell_type": "code",
   "execution_count": 24,
   "metadata": {},
   "outputs": [],
   "source": [
    "class UpdatedViterbiTagger1(VanillaViterbiTagger):\n",
    "    \n",
    "    def __init__(self, train_bag):\n",
    "        super().__init__(train_bag)\n",
    "       \n",
    "    def tag(self, words):\n",
    "        state = []\n",
    "        for index, word in enumerate(words):\n",
    "            p = []\n",
    "            for tag in self.tags:\n",
    "                if index == 0:\n",
    "                    transition_p = self.tags_df.loc['.', tag]\n",
    "                else:\n",
    "                    transition_p = self.tags_df.loc[state[-1], tag]\n",
    "\n",
    "                if word in self.vocab:\n",
    "                    emission_prob = self.get_emission_probability(word, tag)\n",
    "                    state_prob = emission_prob * transition_p\n",
    "                else:\n",
    "                    state_prob = transition_p\n",
    "                    \n",
    "                p.append(state_prob)\n",
    "\n",
    "            pmax = max(p)\n",
    "            state_max = self.tags[p.index(pmax)]  \n",
    "            state.append(state_max)\n",
    "\n",
    "        return list(zip(words, state))        "
   ]
  },
  {
   "cell_type": "markdown",
   "metadata": {},
   "source": [
    "#### Instantiating 1st Modified Viterbi"
   ]
  },
  {
   "cell_type": "code",
   "execution_count": 25,
   "metadata": {},
   "outputs": [],
   "source": [
    "updated_viterbi_1 = UpdatedViterbiTagger1(train_tagged_words)"
   ]
  },
  {
   "cell_type": "markdown",
   "metadata": {},
   "source": [
    "#### POS Tagging Validation Data Set with 1st Modified Viterbi"
   ]
  },
  {
   "cell_type": "code",
   "execution_count": 26,
   "metadata": {
    "scrolled": false
   },
   "outputs": [],
   "source": [
    "updated_predicted_validation_tagged_words_1 = updated_viterbi_1.tag(validation_words)"
   ]
  },
  {
   "cell_type": "markdown",
   "metadata": {},
   "source": [
    "#### Checking accuracy for validation data set with 1st Modified Viterbi"
   ]
  },
  {
   "cell_type": "code",
   "execution_count": 27,
   "metadata": {},
   "outputs": [
    {
     "name": "stdout",
     "output_type": "stream",
     "text": [
      "Accuracy : 0.9377821393523061\n"
     ]
    }
   ],
   "source": [
    "check_accuracy(updated_predicted_validation_tagged_words_1, validation_tagged_words)"
   ]
  },
  {
   "cell_type": "markdown",
   "metadata": {},
   "source": [
    "#### Most common incorrect tagged cases with 1st Modified Viterbi"
   ]
  },
  {
   "cell_type": "code",
   "execution_count": 28,
   "metadata": {},
   "outputs": [
    {
     "name": "stdout",
     "output_type": "stream",
     "text": [
      "Total incorrect tag cases : 317\n",
      "Most common incorrect tagged sequence: \n",
      "\n",
      "Previous, Correct, Incorrect:\n"
     ]
    },
    {
     "data": {
      "text/plain": [
       "[(('DET', 'ADJ', 'NOUN'), 22),\n",
       " (('NOUN', 'VERB', 'NOUN'), 18),\n",
       " (('ADP', 'NOUN', 'DET'), 14),\n",
       " (('NOUN', 'DET', 'ADP'), 13),\n",
       " (('.', 'NUM', 'NOUN'), 12),\n",
       " (('VERB', 'ADJ', 'ADV'), 11),\n",
       " (('VERB', 'VERB', 'X'), 11),\n",
       " (('PRON', 'NOUN', 'VERB'), 9),\n",
       " (('DET', 'NOUN', 'ADJ'), 9),\n",
       " (('ADP', 'NUM', 'DET'), 9)]"
      ]
     },
     "metadata": {},
     "output_type": "display_data"
    }
   ],
   "source": [
    "updated_incorrect_validation_tagged_cases_1 = get_diff_bet_tagged_cases(updated_predicted_validation_tagged_words_1, \n",
    "                                                            validation_tagged_words)\n",
    "updated_most_common_validation_incorrect_tags_1 = get_most_common_diff_tags(updated_incorrect_validation_tagged_cases_1)"
   ]
  },
  {
   "cell_type": "markdown",
   "metadata": {},
   "source": [
    "#### POS Tagging Test Data Set with 1st Modified Viterbi"
   ]
  },
  {
   "cell_type": "code",
   "execution_count": 29,
   "metadata": {},
   "outputs": [
    {
     "name": "stdout",
     "output_type": "stream",
     "text": [
      "[('Android', 'NOUN'), ('is', 'VERB'), ('a', 'DET'), ('mobile', 'ADJ'), ('operating', 'NOUN'), ('system', 'NOUN'), ('developed', 'VERB'), ('by', 'ADP'), ('Google', 'DET'), ('.', '.'), ('Android', 'NOUN'), ('has', 'VERB'), ('been', 'VERB'), ('the', 'DET'), ('best-selling', 'ADJ'), ('OS', 'NOUN'), ('worldwide', 'NOUN'), ('on', 'ADP'), ('smartphones', 'DET'), ('since', 'ADP'), ('2011', 'DET'), ('and', 'CONJ'), ('on', 'ADP'), ('tablets', 'NOUN'), ('since', 'ADP'), ('2013', 'DET'), ('.', '.'), ('Google', 'NOUN'), ('and', 'CONJ'), ('Twitter', 'NOUN'), ('made', 'VERB'), ('a', 'DET'), ('deal', 'NOUN'), ('in', 'ADP'), ('2015', 'DET'), ('that', 'ADP'), ('gave', 'VERB'), ('Google', 'X'), ('access', 'NOUN'), ('to', 'PRT'), ('Twitter', 'VERB'), (\"'s\", 'PRT'), ('firehose', 'VERB'), ('.', '.'), ('Twitter', 'NOUN'), ('is', 'VERB'), ('an', 'DET'), ('online', 'NOUN'), ('news', 'NOUN'), ('and', 'CONJ'), ('social', 'ADJ'), ('networking', 'NOUN'), ('service', 'NOUN'), ('on', 'ADP'), ('which', 'DET'), ('users', 'NOUN'), ('post', 'NOUN'), ('and', 'CONJ'), ('interact', 'NOUN'), ('with', 'ADP'), ('messages', 'DET'), ('known', 'VERB'), ('as', 'ADP'), ('tweets', 'DET'), ('.', '.'), ('Before', 'ADP'), ('entering', 'VERB'), ('politics', 'NOUN'), (',', '.'), ('Donald', 'NOUN'), ('Trump', 'NOUN'), ('was', 'VERB'), ('a', 'DET'), ('domineering', 'NOUN'), ('businessman', 'NOUN'), ('and', 'CONJ'), ('a', 'DET'), ('television', 'NOUN'), ('personality', 'NOUN'), ('.', '.'), ('The', 'DET'), ('2018', 'NOUN'), ('FIFA', 'NOUN'), ('World', 'NOUN'), ('Cup', 'NOUN'), ('is', 'VERB'), ('the', 'DET'), ('21st', 'NOUN'), ('FIFA', 'NOUN'), ('World', 'NOUN'), ('Cup', 'NOUN'), (',', '.'), ('an', 'DET'), ('international', 'ADJ'), ('football', 'NOUN'), ('tournament', 'NOUN'), ('contested', 'NOUN'), ('once', 'ADV'), ('every', 'DET'), ('four', 'NUM'), ('years', 'NOUN'), ('.', '.'), ('This', 'DET'), ('is', 'VERB'), ('the', 'DET'), ('first', 'ADJ'), ('World', 'NOUN'), ('Cup', 'NOUN'), ('to', 'PRT'), ('be', 'VERB'), ('held', 'VERB'), ('in', 'ADP'), ('Eastern', 'NOUN'), ('Europe', 'NOUN'), ('and', 'CONJ'), ('the', 'DET'), ('11th', 'ADJ'), ('time', 'NOUN'), ('that', 'ADP'), ('it', 'PRON'), ('has', 'VERB'), ('been', 'VERB'), ('held', 'VERB'), ('in', 'ADP'), ('Europe', 'NOUN'), ('.', '.'), ('Show', 'NOUN'), ('me', 'PRON'), ('the', 'DET'), ('cheapest', 'ADJ'), ('round', 'NOUN'), ('trips', 'NOUN'), ('from', 'ADP'), ('Dallas', 'NOUN'), ('to', 'PRT'), ('Atlanta', 'NOUN'), ('I', 'PRON'), ('would', 'VERB'), ('like', 'ADP'), ('to', 'PRT'), ('see', 'VERB'), ('flights', 'NOUN'), ('from', 'ADP'), ('Denver', 'NOUN'), ('to', 'PRT'), ('Philadelphia', 'NOUN'), ('.', '.'), ('Show', 'NOUN'), ('me', 'PRON'), ('the', 'DET'), ('price', 'NOUN'), ('of', 'ADP'), ('the', 'DET'), ('flights', 'NOUN'), ('leaving', 'VERB'), ('Atlanta', 'NOUN'), ('at', 'ADP'), ('about', 'ADP'), ('3', 'NUM'), ('in', 'ADP'), ('the', 'DET'), ('afternoon', 'NOUN'), ('and', 'CONJ'), ('arriving', 'NOUN'), ('in', 'ADP'), ('San', 'NOUN'), ('Francisco', 'NOUN'), ('.', '.'), ('NASA', 'NOUN'), ('invited', 'NOUN'), ('social', 'ADJ'), ('media', 'NOUN'), ('users', 'NOUN'), ('to', 'PRT'), ('experience', 'NOUN'), ('the', 'DET'), ('launch', 'NOUN'), ('of', 'ADP'), ('ICESAT-2', 'DET'), ('Satellite', 'NOUN'), ('.', '.')]\n"
     ]
    }
   ],
   "source": [
    "updated_predicted_test_tagged_words_1 = updated_viterbi_1.tag(test_words)\n",
    "print(updated_predicted_test_tagged_words_1)"
   ]
  },
  {
   "cell_type": "markdown",
   "metadata": {},
   "source": [
    "### Modifying Vanilla Viterbi with 2nd technique"
   ]
  },
  {
   "cell_type": "markdown",
   "metadata": {},
   "source": [
    "#### Exploring incorrect tagged cases of Vanilla Viterbi for patterns"
   ]
  },
  {
   "cell_type": "code",
   "execution_count": 30,
   "metadata": {},
   "outputs": [
    {
     "data": {
      "text/plain": [
       "[(('NOUN', 'NOUN', '.'), 46),\n",
       " (('DET', 'NOUN', '.'), 25),\n",
       " (('ADJ', 'NOUN', '.'), 24),\n",
       " (('DET', 'ADJ', '.'), 22),\n",
       " (('.', 'NOUN', '.'), 17),\n",
       " (('ADP', 'NOUN', '.'), 14),\n",
       " (('NOUN', 'DET', 'ADP'), 13),\n",
       " (('X', 'VERB', '.'), 12),\n",
       " (('.', 'NUM', '.'), 12),\n",
       " (('VERB', 'ADJ', 'ADV'), 11)]"
      ]
     },
     "execution_count": 30,
     "metadata": {},
     "output_type": "execute_result"
    }
   ],
   "source": [
    "default_incorrect_validation_tagged_words = get_incorrect_tagged_words(default_incorrect_validation_tagged_cases)\n",
    "\n",
    "default_most_common_validation_incorrect_tags"
   ]
  },
  {
   "cell_type": "markdown",
   "metadata": {},
   "source": [
    "<b>'.' is the first tag in the tag list. Any unknown word will have 0 emission probability, thus 0 state probability. This leads to the assignment of the first tag in the tag list to unknown words</b>"
   ]
  },
  {
   "cell_type": "markdown",
   "metadata": {},
   "source": [
    "<b>First, starting with patterns which are known words but incorrectly tagged</b>"
   ]
  },
  {
   "cell_type": "markdown",
   "metadata": {},
   "source": [
    "##### Exploring 1st pattern "
   ]
  },
  {
   "cell_type": "markdown",
   "metadata": {},
   "source": [
    "###### Most Common Words"
   ]
  },
  {
   "cell_type": "code",
   "execution_count": 31,
   "metadata": {
    "scrolled": false
   },
   "outputs": [
    {
     "name": "stdout",
     "output_type": "stream",
     "text": [
      "Most common incorrect tag words:\n",
      "Previous, Correct, Incorrect:\n"
     ]
    },
    {
     "data": {
      "text/plain": [
       "[(('creation', 'NOUN'), ('that', 'DET'), ('that', 'ADP')),\n",
       " (('questions', 'NOUN'), ('that', 'DET'), ('that', 'ADP')),\n",
       " (('Corp.', 'NOUN'), ('that', 'DET'), ('that', 'ADP')),\n",
       " (('trading', 'NOUN'), ('that', 'DET'), ('that', 'ADP')),\n",
       " (('ad', 'NOUN'), ('that', 'DET'), ('that', 'ADP')),\n",
       " (('club', 'NOUN'), ('that', 'DET'), ('that', 'ADP')),\n",
       " (('shares', 'NOUN'), ('that', 'DET'), ('that', 'ADP')),\n",
       " (('job', 'NOUN'), ('that', 'DET'), ('that', 'ADP')),\n",
       " (('legislation', 'NOUN'), ('that', 'DET'), ('that', 'ADP')),\n",
       " (('research', 'NOUN'), ('that', 'DET'), ('that', 'ADP')),\n",
       " (('plan', 'NOUN'), ('that', 'DET'), ('that', 'ADP')),\n",
       " (('stocks', 'NOUN'), ('that', 'DET'), ('that', 'ADP')),\n",
       " (('bill', 'NOUN'), ('that', 'DET'), ('that', 'ADP'))]"
      ]
     },
     "metadata": {},
     "output_type": "display_data"
    }
   ],
   "source": [
    "words_for_first_incorrect_tag = get_most_common_words_for_diff_bet_tag(\n",
    "    default_incorrect_validation_tagged_cases, ('NOUN', 'DET', 'ADP'))"
   ]
  },
  {
   "cell_type": "markdown",
   "metadata": {},
   "source": [
    "##### Tag frequency distribution for most common words"
   ]
  },
  {
   "cell_type": "code",
   "execution_count": 32,
   "metadata": {},
   "outputs": [
    {
     "data": {
      "image/png": "[encoded data removed]",
      "text/plain": [
       "<Figure size 720x360 with 1 Axes>"
      ]
     },
     "metadata": {
      "needs_background": "light"
     },
     "output_type": "display_data"
    }
   ],
   "source": [
    "frequency_distribution_for_word_tags(words_for_first_incorrect_tag)"
   ]
  },
  {
   "cell_type": "markdown",
   "metadata": {},
   "source": [
    "<b>Based on above evidence, there is no clear pattern emerging for rule-based tagging</b>"
   ]
  },
  {
   "cell_type": "markdown",
   "metadata": {},
   "source": [
    "##### Exploring 2nd pattern "
   ]
  },
  {
   "cell_type": "markdown",
   "metadata": {},
   "source": [
    "###### Most Common Words"
   ]
  },
  {
   "cell_type": "code",
   "execution_count": 33,
   "metadata": {
    "scrolled": false
   },
   "outputs": [
    {
     "name": "stdout",
     "output_type": "stream",
     "text": [
      "Most common incorrect tag words:\n",
      "Previous, Correct, Incorrect:\n"
     ]
    },
    {
     "data": {
      "text/plain": [
       "[(('fired', 'VERB'), ('more', 'ADJ'), ('more', 'ADV')),\n",
       " (('is', 'VERB'), ('less', 'ADJ'), ('less', 'ADV')),\n",
       " (('hold', 'VERB'), ('back', 'ADJ'), ('back', 'ADV')),\n",
       " (('sold', 'VERB'), ('more', 'ADJ'), ('more', 'ADV')),\n",
       " (('get', 'VERB'), ('enough', 'ADJ'), ('enough', 'ADV')),\n",
       " (('trade', 'VERB'), ('more', 'ADJ'), ('more', 'ADV')),\n",
       " (('fall', 'VERB'), ('further', 'ADJ'), ('further', 'ADV')),\n",
       " (('spent', 'VERB'), ('much', 'ADJ'), ('much', 'ADV')),\n",
       " (('buy', 'VERB'), ('more', 'ADJ'), ('more', 'ADV')),\n",
       " (('be', 'VERB'), ('more', 'ADJ'), ('more', 'ADV')),\n",
       " (('create', 'VERB'), ('more', 'ADJ'), ('more', 'ADV'))]"
      ]
     },
     "metadata": {},
     "output_type": "display_data"
    }
   ],
   "source": [
    "words_for_second_incorrect_tag = get_most_common_words_for_diff_bet_tag(\n",
    "    default_incorrect_validation_tagged_cases, ('VERB', 'ADJ', 'ADV'))"
   ]
  },
  {
   "cell_type": "markdown",
   "metadata": {},
   "source": [
    "##### Tag frequency distribution for most common words"
   ]
  },
  {
   "cell_type": "code",
   "execution_count": 34,
   "metadata": {},
   "outputs": [
    {
     "data": {
      "image/png": "[encoded data removed]",
      "text/plain": [
       "<Figure size 2160x720 with 6 Axes>"
      ]
     },
     "metadata": {
      "needs_background": "light"
     },
     "output_type": "display_data"
    }
   ],
   "source": [
    "frequency_distribution_for_word_tags(words_for_second_incorrect_tag)"
   ]
  },
  {
   "cell_type": "markdown",
   "metadata": {},
   "source": [
    "<b>Based on above evidence, there is no clear pattern emerging for rule-based tagging</b>"
   ]
  },
  {
   "cell_type": "markdown",
   "metadata": {},
   "source": [
    "<b>Second, exploring patterns for unknown words which are incorrectly tagged</b>"
   ]
  },
  {
   "cell_type": "markdown",
   "metadata": {},
   "source": [
    "##### Exploring 3rd pattern "
   ]
  },
  {
   "cell_type": "markdown",
   "metadata": {},
   "source": [
    "###### Most Common Words"
   ]
  },
  {
   "cell_type": "code",
   "execution_count": 35,
   "metadata": {},
   "outputs": [
    {
     "name": "stdout",
     "output_type": "stream",
     "text": [
      "Most common incorrect tag words:\n",
      "Previous, Correct, Incorrect:\n"
     ]
    },
    {
     "data": {
      "text/plain": [
       "[(('a', 'DET'), ('seasoned', 'ADJ'), ('seasoned', '.')),\n",
       " (('an', 'DET'), ('eight-count', 'ADJ'), ('eight-count', '.')),\n",
       " (('the', 'DET'), ('absolute', 'ADJ'), ('absolute', '.')),\n",
       " (('the', 'DET'), ('scholarly', 'ADJ'), ('scholarly', '.')),\n",
       " (('the', 'DET'), ('grim', 'ADJ'), ('grim', '.')),\n",
       " (('The', 'DET'), ('Nicaraguan', 'ADJ'), ('Nicaraguan', '.')),\n",
       " (('the', 'DET'), ('U.S.-backed', 'ADJ'), ('U.S.-backed', '.')),\n",
       " (('a', 'DET'), ('19-month-old', 'ADJ'), ('19-month-old', '.')),\n",
       " (('The', 'DET'), ('Senate-House', 'ADJ'), ('Senate-House', '.')),\n",
       " (('a', 'DET'), ('lighter', 'ADJ'), ('lighter', '.')),\n",
       " (('an', 'DET'), ('affordable', 'ADJ'), ('affordable', '.')),\n",
       " (('another', 'DET'), ('drag-down', 'ADJ'), ('drag-down', '.')),\n",
       " (('a', 'DET'), ('post-hearing', 'ADJ'), ('post-hearing', '.')),\n",
       " (('a', 'DET'), ('self-perpetuating', 'ADJ'), ('self-perpetuating', '.')),\n",
       " (('these', 'DET'), ('one-country', 'ADJ'), ('one-country', '.')),\n",
       " (('a', 'DET'), ('sharper', 'ADJ'), ('sharper', '.')),\n",
       " (('a', 'DET'), ('Hawaiian', 'ADJ'), ('Hawaiian', '.')),\n",
       " (('a', 'DET'), ('tall', 'ADJ'), ('tall', '.')),\n",
       " (('a', 'DET'), ('double-A', 'ADJ'), ('double-A', '.')),\n",
       " (('a', 'DET'), ('minimal', 'ADJ'), ('minimal', '.')),\n",
       " (('the', 'DET'), ('yellow', 'ADJ'), ('yellow', '.')),\n",
       " (('a', 'DET'), ('disembodied', 'ADJ'), ('disembodied', '.'))]"
      ]
     },
     "metadata": {},
     "output_type": "display_data"
    }
   ],
   "source": [
    "words_for_third_incorrect_tag = get_most_common_words_for_diff_bet_tag(\n",
    "    default_incorrect_validation_tagged_cases, ('DET', 'ADJ', '.'))"
   ]
  },
  {
   "cell_type": "markdown",
   "metadata": {},
   "source": [
    "##### Tag frequency distribution for most common words"
   ]
  },
  {
   "cell_type": "code",
   "execution_count": 36,
   "metadata": {},
   "outputs": [
    {
     "data": {
      "image/png": "[encoded data removed]",
      "text/plain": [
       "<Figure size 2160x2880 with 22 Axes>"
      ]
     },
     "metadata": {
      "needs_background": "light"
     },
     "output_type": "display_data"
    }
   ],
   "source": [
    "frequency_distribution_for_word_tags(words_for_third_incorrect_tag)"
   ]
  },
  {
   "cell_type": "markdown",
   "metadata": {},
   "source": [
    "###### Exploring word patterns for any rule-based tagging"
   ]
  },
  {
   "cell_type": "markdown",
   "metadata": {},
   "source": [
    "<b>First capital letter words pattern</b>"
   ]
  },
  {
   "cell_type": "code",
   "execution_count": 37,
   "metadata": {},
   "outputs": [
    {
     "name": "stdout",
     "output_type": "stream",
     "text": [
      "Total words matching pattern : 96\n",
      "\n",
      "Most common tags for words matching pattern :\n",
      "[('NOUN', 82), ('ADJ', 11), ('VERB', 3)]\n",
      "\n",
      "Tag Ratios : \n",
      "Tag , Ratio\n",
      "NOUN , 85.42 \n",
      "ADJ , 11.46 \n",
      "VERB , 3.12 \n"
     ]
    }
   ],
   "source": [
    "first_capital_letter_distribution = tags_distribution_for_pattern('^[A-Z].+$', default_incorrect_validation_tagged_words)"
   ]
  },
  {
   "cell_type": "markdown",
   "metadata": {},
   "source": [
    "<b>Words with hyphen pattern</b>"
   ]
  },
  {
   "cell_type": "code",
   "execution_count": 38,
   "metadata": {},
   "outputs": [
    {
     "name": "stdout",
     "output_type": "stream",
     "text": [
      "Total words matching pattern : 31\n",
      "\n",
      "Most common tags for words matching pattern :\n",
      "[('ADJ', 19), ('NOUN', 12)]\n",
      "\n",
      "Tag Ratios : \n",
      "Tag , Ratio\n",
      "ADJ , 61.29 \n",
      "NOUN , 38.71 \n"
     ]
    }
   ],
   "source": [
    "word_with_hyphen_distribution = tags_distribution_for_pattern('^[A-z]+-[A-z]+$', default_incorrect_validation_tagged_words)"
   ]
  },
  {
   "cell_type": "markdown",
   "metadata": {},
   "source": [
    "<b>Based on above evidence, there is no clear pattern emerging for rule-based tagging</b>"
   ]
  },
  {
   "cell_type": "markdown",
   "metadata": {},
   "source": [
    "##### Exploring 4th pattern "
   ]
  },
  {
   "cell_type": "markdown",
   "metadata": {},
   "source": [
    "###### Most Common Words"
   ]
  },
  {
   "cell_type": "code",
   "execution_count": 39,
   "metadata": {
    "scrolled": false
   },
   "outputs": [
    {
     "name": "stdout",
     "output_type": "stream",
     "text": [
      "Most common incorrect tag words:\n",
      "Previous, Correct, Incorrect:\n"
     ]
    },
    {
     "data": {
      "text/plain": [
       "[(('*T*-1', 'X'), ('feeds', 'VERB'), ('feeds', '.')),\n",
       " (('*T*-2', 'X'), ('mandates', 'VERB'), ('mandates', '.')),\n",
       " (('*-1', 'X'), ('asserting', 'VERB'), ('asserting', '.')),\n",
       " (('*-1', 'X'), ('arrested', 'VERB'), ('arrested', '.')),\n",
       " (('*', 'X'), ('Arbitraging', 'VERB'), ('Arbitraging', '.')),\n",
       " (('*', 'X'), ('altering', 'VERB'), ('altering', '.')),\n",
       " (('*-1', 'X'), ('issuing', 'VERB'), ('issuing', '.')),\n",
       " (('*', 'X'), ('disseminating', 'VERB'), ('disseminating', '.')),\n",
       " (('*', 'X'), ('reciting', 'VERB'), ('reciting', '.')),\n",
       " (('*', 'X'), ('Encouraging', 'VERB'), ('Encouraging', '.')),\n",
       " (('*', 'X'), ('PORTING', 'VERB'), ('PORTING', '.')),\n",
       " (('*-5', 'X'), ('jumping', 'VERB'), ('jumping', '.'))]"
      ]
     },
     "metadata": {},
     "output_type": "display_data"
    }
   ],
   "source": [
    "words_for_fourth_incorrect_tag = get_most_common_words_for_diff_bet_tag(\n",
    "    default_incorrect_validation_tagged_cases, ('X', 'VERB', '.'))"
   ]
  },
  {
   "cell_type": "markdown",
   "metadata": {},
   "source": [
    "##### Tag frequency distribution for most common words"
   ]
  },
  {
   "cell_type": "code",
   "execution_count": 40,
   "metadata": {},
   "outputs": [
    {
     "data": {
      "image/png": "[encoded data removed]",
      "text/plain": [
       "<Figure size 2160x1440 with 12 Axes>"
      ]
     },
     "metadata": {
      "needs_background": "light"
     },
     "output_type": "display_data"
    }
   ],
   "source": [
    "frequency_distribution_for_word_tags(words_for_fourth_incorrect_tag)"
   ]
  },
  {
   "cell_type": "markdown",
   "metadata": {},
   "source": [
    "###### Exploring word patterns for any rule-based tagging"
   ]
  },
  {
   "cell_type": "markdown",
   "metadata": {},
   "source": [
    "<b>Words ending with ing, ed, es pattern</b>"
   ]
  },
  {
   "cell_type": "code",
   "execution_count": 41,
   "metadata": {},
   "outputs": [
    {
     "name": "stdout",
     "output_type": "stream",
     "text": [
      "Total words matching pattern : 94\n",
      "\n",
      "Most common tags for words matching pattern :\n",
      "[('VERB', 49), ('NOUN', 28), ('ADJ', 17)]\n",
      "\n",
      "Tag Ratios : \n",
      "Tag , Ratio\n",
      "VERB , 52.13 \n",
      "NOUN , 29.79 \n",
      "ADJ , 18.09 \n"
     ]
    }
   ],
   "source": [
    "words_ending_with_ing_distrib_ed_ed_distribution = tags_distribution_for_pattern('^.*(ing|ed|es)$', \n",
    "                                                                                 default_incorrect_validation_tagged_words)"
   ]
  },
  {
   "cell_type": "markdown",
   "metadata": {},
   "source": [
    "<b>Based on above evidence, there is no clear pattern emerging for rule-based tagging</b>"
   ]
  },
  {
   "cell_type": "markdown",
   "metadata": {},
   "source": [
    "##### Exploring 5th pattern "
   ]
  },
  {
   "cell_type": "markdown",
   "metadata": {},
   "source": [
    "###### Most Common Words"
   ]
  },
  {
   "cell_type": "code",
   "execution_count": 42,
   "metadata": {
    "scrolled": false
   },
   "outputs": [
    {
     "name": "stdout",
     "output_type": "stream",
     "text": [
      "Most common incorrect tag words:\n",
      "Previous, Correct, Incorrect:\n"
     ]
    },
    {
     "data": {
      "text/plain": [
       "[(('$', '.'), ('38.3', 'NUM'), ('38.3', '.')),\n",
       " (('$', '.'), ('12.09', 'NUM'), ('12.09', '.')),\n",
       " (('$', '.'), ('62.625', 'NUM'), ('62.625', '.')),\n",
       " (('$', '.'), ('1,298', 'NUM'), ('1,298', '.')),\n",
       " (('$', '.'), ('13.90', 'NUM'), ('13.90', '.')),\n",
       " (('-RRB-', '.'), ('9.75', 'NUM'), ('9.75', '.')),\n",
       " ((';', '.'), ('8.70', 'NUM'), ('8.70', '.')),\n",
       " ((',', '.'), ('6\\\\/2', 'NUM'), ('6\\\\/2', '.')),\n",
       " (('$', '.'), ('86.12', 'NUM'), ('86.12', '.')),\n",
       " (('$', '.'), ('325,000', 'NUM'), ('325,000', '.')),\n",
       " (('$', '.'), ('340,000', 'NUM'), ('340,000', '.')),\n",
       " (('$', '.'), ('472', 'NUM'), ('472', '.'))]"
      ]
     },
     "metadata": {},
     "output_type": "display_data"
    }
   ],
   "source": [
    "words_for_fifth_incorrect_tag = get_most_common_words_for_diff_bet_tag(\n",
    "    default_incorrect_validation_tagged_cases, ('.', 'NUM', '.'))"
   ]
  },
  {
   "cell_type": "markdown",
   "metadata": {},
   "source": [
    "##### Tag frequency distribution for most common words"
   ]
  },
  {
   "cell_type": "code",
   "execution_count": 43,
   "metadata": {},
   "outputs": [
    {
     "data": {
      "image/png": "[encoded data removed]",
      "text/plain": [
       "<Figure size 2160x1440 with 12 Axes>"
      ]
     },
     "metadata": {
      "needs_background": "light"
     },
     "output_type": "display_data"
    }
   ],
   "source": [
    "frequency_distribution_for_word_tags(words_for_fifth_incorrect_tag)"
   ]
  },
  {
   "cell_type": "markdown",
   "metadata": {},
   "source": [
    "###### Exploring word patterns for any rule-based tagging"
   ]
  },
  {
   "cell_type": "markdown",
   "metadata": {},
   "source": [
    "<b>Words ending with ing, ed, es pattern</b>"
   ]
  },
  {
   "cell_type": "code",
   "execution_count": 44,
   "metadata": {},
   "outputs": [
    {
     "name": "stdout",
     "output_type": "stream",
     "text": [
      "Total words matching pattern : 27\n",
      "\n",
      "Most common tags for words matching pattern :\n",
      "[('NUM', 26), ('X', 1)]\n",
      "\n",
      "Tag Ratios : \n",
      "Tag , Ratio\n",
      "NUM , 96.3 \n",
      "X , 3.7 \n"
     ]
    }
   ],
   "source": [
    "num_word_distribution = tags_distribution_for_pattern('^-?[0-9]+(.[0-9]+)?$', default_incorrect_validation_tagged_words)"
   ]
  },
  {
   "cell_type": "markdown",
   "metadata": {},
   "source": [
    "<b>Based on above evidence, any unknown numeric words should be tagged as 'NUM'</b>"
   ]
  },
  {
   "cell_type": "markdown",
   "metadata": {},
   "source": [
    "<b> Based on above evidence, 'NOUN' tag is the most common tag in corpus and most of the incorrectly tag unknown words also should be tagged as 'NOUN. Therefore, defaulting all unknown word tags to 'NOUN' incase the same does not fit into any other criteria </b>"
   ]
  },
  {
   "cell_type": "markdown",
   "metadata": {},
   "source": [
    "#### Implementing 2nd Modified Viterbi"
   ]
  },
  {
   "cell_type": "code",
   "execution_count": 45,
   "metadata": {},
   "outputs": [],
   "source": [
    "class UpdatedViterbiTagger2(VanillaViterbiTagger):\n",
    "    \n",
    "    def __init__(self, train_bag):\n",
    "        super().__init__(train_bag)\n",
    "        patterns = [                         \n",
    "        (r'^-?[0-9]+(.[0-9]+)?$', 'NUM'),\n",
    "        (r'.*', 'NOUN') \n",
    "        ]\n",
    "        self.regexp_tagger = nltk.RegexpTagger(patterns)\n",
    "        \n",
    "    def remove_special_chars(self, word):\n",
    "        if re.search(r'\\d', word):\n",
    "            return re.sub('[\\\\\\/]+', '', word)\n",
    "        else:\n",
    "            return word\n",
    "    \n",
    "    def word_to_num(self, word):\n",
    "        try:\n",
    "            number = w2n.word_to_num(word)\n",
    "            output = '{}'.format(number)\n",
    "        except:\n",
    "            output = word\n",
    "\n",
    "        return output\n",
    "\n",
    "    def tag_words_with_regexp_tagger(self, word_set):\n",
    "        return self.regexp_tagger.tag(word_set)\n",
    "\n",
    "    def tag(self, words):\n",
    "        state = []\n",
    "        for index, word in enumerate(words):\n",
    "            p = []\n",
    "            if word in self.vocab:\n",
    "                for tag in self.tags:\n",
    "                    if index == 0:\n",
    "                        transition_p = self.tags_df.loc['.', tag]\n",
    "                    else:\n",
    "                        transition_p = self.tags_df.loc[state[-1], tag]\n",
    "\n",
    "                    emission_prob = self.get_emission_probability(word, tag)\n",
    "                    state_prob = emission_prob * transition_p\n",
    "                    p.append(state_prob)\n",
    "\n",
    "                pmax = max(p)\n",
    "                state_max = self.tags[p.index(pmax)]\n",
    "            else:\n",
    "                converted_word = self.word_to_num(word)\n",
    "                converted_word = self.remove_special_chars(converted_word)\n",
    "                state_max = self.tag_words_with_regexp_tagger([converted_word])[0][1]\n",
    "                \n",
    "            state.append(state_max)\n",
    "\n",
    "        return list(zip(words, state))        "
   ]
  },
  {
   "cell_type": "markdown",
   "metadata": {},
   "source": [
    "#### Instantiating 2nd Modified Viterbi"
   ]
  },
  {
   "cell_type": "code",
   "execution_count": 46,
   "metadata": {},
   "outputs": [],
   "source": [
    "updated_viterbi_2 = UpdatedViterbiTagger2(train_tagged_words)"
   ]
  },
  {
   "cell_type": "markdown",
   "metadata": {},
   "source": [
    "#### Validating 2nd Modified Viterbi implementation"
   ]
  },
  {
   "cell_type": "markdown",
   "metadata": {},
   "source": [
    "##### Validating word to num method "
   ]
  },
  {
   "cell_type": "code",
   "execution_count": 47,
   "metadata": {},
   "outputs": [
    {
     "name": "stdout",
     "output_type": "stream",
     "text": [
      "4\n",
      "4\n",
      "blah\n"
     ]
    }
   ],
   "source": [
    "print(updated_viterbi_2.word_to_num('FOUR'))\n",
    "print(updated_viterbi_2.word_to_num('4'))\n",
    "print(updated_viterbi_2.word_to_num('blah'))"
   ]
  },
  {
   "cell_type": "markdown",
   "metadata": {},
   "source": [
    "##### Validating rule-based tagging method"
   ]
  },
  {
   "cell_type": "code",
   "execution_count": 48,
   "metadata": {},
   "outputs": [
    {
     "name": "stdout",
     "output_type": "stream",
     "text": [
      "[('3.19', 'NUM')]\n",
      "[('clamped', 'NOUN')]\n",
      "[('wrestling', 'NOUN')]\n"
     ]
    }
   ],
   "source": [
    "print(updated_viterbi_2.tag_words_with_regexp_tagger(['3.19']))\n",
    "print(updated_viterbi_2.tag_words_with_regexp_tagger(['clamped']))\n",
    "print(updated_viterbi_2.tag_words_with_regexp_tagger(['wrestling']))"
   ]
  },
  {
   "cell_type": "markdown",
   "metadata": {},
   "source": [
    "##### Validating remove special characters method"
   ]
  },
  {
   "cell_type": "code",
   "execution_count": 49,
   "metadata": {},
   "outputs": [
    {
     "name": "stdout",
     "output_type": "stream",
     "text": [
      "62\n",
      "ICESAT-2\n",
      "clamped\n"
     ]
    }
   ],
   "source": [
    "print(updated_viterbi_2.remove_special_chars('6\\\\/2'))\n",
    "print(updated_viterbi_2.remove_special_chars('ICESAT-2'))\n",
    "print(updated_viterbi_2.remove_special_chars('clamped'))"
   ]
  },
  {
   "cell_type": "markdown",
   "metadata": {},
   "source": [
    "#### POS Tagging Validation Data Set with 2nd Modified Viterbi"
   ]
  },
  {
   "cell_type": "code",
   "execution_count": 50,
   "metadata": {
    "scrolled": false
   },
   "outputs": [],
   "source": [
    "updated_predicted_validation_tagged_words_2 = updated_viterbi_2.tag(validation_words)"
   ]
  },
  {
   "cell_type": "markdown",
   "metadata": {},
   "source": [
    "#### Checking accuracy for validation data set with 2nd Modified Viterbi"
   ]
  },
  {
   "cell_type": "code",
   "execution_count": 51,
   "metadata": {},
   "outputs": [
    {
     "name": "stdout",
     "output_type": "stream",
     "text": [
      "Accuracy : 0.9444553483807655\n"
     ]
    }
   ],
   "source": [
    "check_accuracy(updated_predicted_validation_tagged_words_2, validation_tagged_words)"
   ]
  },
  {
   "cell_type": "markdown",
   "metadata": {},
   "source": [
    "#### Most common incorrect tagged cases with 2nd Modified Viterbi"
   ]
  },
  {
   "cell_type": "code",
   "execution_count": 52,
   "metadata": {},
   "outputs": [
    {
     "name": "stdout",
     "output_type": "stream",
     "text": [
      "Total incorrect tag cases : 283\n",
      "Most common incorrect tagged sequence: \n",
      "\n",
      "Previous, Correct, Incorrect:\n"
     ]
    },
    {
     "data": {
      "text/plain": [
       "[(('DET', 'ADJ', 'NOUN'), 20),\n",
       " (('NOUN', 'VERB', 'NOUN'), 18),\n",
       " (('VERB', 'VERB', 'NOUN'), 15),\n",
       " (('X', 'VERB', 'NOUN'), 13),\n",
       " (('PRT', 'VERB', 'NOUN'), 13),\n",
       " (('NOUN', 'DET', 'ADP'), 13),\n",
       " (('VERB', 'ADJ', 'ADV'), 11),\n",
       " (('ADP', 'ADJ', 'NOUN'), 11),\n",
       " (('DET', 'NOUN', 'ADJ'), 9),\n",
       " (('.', 'ADJ', 'NOUN'), 9)]"
      ]
     },
     "metadata": {},
     "output_type": "display_data"
    }
   ],
   "source": [
    "updated_incorrect_validation_tagged_cases_2 = get_diff_bet_tagged_cases(updated_predicted_validation_tagged_words_2, \n",
    "                                                            validation_tagged_words)\n",
    "updated_most_common_validation_incorrect_tags_2 = get_most_common_diff_tags(updated_incorrect_validation_tagged_cases_2)"
   ]
  },
  {
   "cell_type": "markdown",
   "metadata": {},
   "source": [
    "#### POS Tagging Test Data Set with 2nd Modified Viterbi"
   ]
  },
  {
   "cell_type": "code",
   "execution_count": 53,
   "metadata": {
    "scrolled": false
   },
   "outputs": [
    {
     "name": "stdout",
     "output_type": "stream",
     "text": [
      "[('Android', 'NOUN'), ('is', 'VERB'), ('a', 'DET'), ('mobile', 'ADJ'), ('operating', 'NOUN'), ('system', 'NOUN'), ('developed', 'VERB'), ('by', 'ADP'), ('Google', 'NOUN'), ('.', '.'), ('Android', 'NOUN'), ('has', 'VERB'), ('been', 'VERB'), ('the', 'DET'), ('best-selling', 'ADJ'), ('OS', 'NOUN'), ('worldwide', 'NOUN'), ('on', 'ADP'), ('smartphones', 'NOUN'), ('since', 'ADP'), ('2011', 'NUM'), ('and', 'CONJ'), ('on', 'ADP'), ('tablets', 'NOUN'), ('since', 'ADP'), ('2013', 'NUM'), ('.', '.'), ('Google', 'NOUN'), ('and', 'CONJ'), ('Twitter', 'NOUN'), ('made', 'VERB'), ('a', 'DET'), ('deal', 'NOUN'), ('in', 'ADP'), ('2015', 'NUM'), ('that', 'ADP'), ('gave', 'VERB'), ('Google', 'NOUN'), ('access', 'NOUN'), ('to', 'PRT'), ('Twitter', 'NOUN'), (\"'s\", 'PRT'), ('firehose', 'NOUN'), ('.', '.'), ('Twitter', 'NOUN'), ('is', 'VERB'), ('an', 'DET'), ('online', 'NOUN'), ('news', 'NOUN'), ('and', 'CONJ'), ('social', 'ADJ'), ('networking', 'NOUN'), ('service', 'NOUN'), ('on', 'ADP'), ('which', 'DET'), ('users', 'NOUN'), ('post', 'NOUN'), ('and', 'CONJ'), ('interact', 'NOUN'), ('with', 'ADP'), ('messages', 'NOUN'), ('known', 'VERB'), ('as', 'ADP'), ('tweets', 'NOUN'), ('.', '.'), ('Before', 'ADP'), ('entering', 'VERB'), ('politics', 'NOUN'), (',', '.'), ('Donald', 'NOUN'), ('Trump', 'NOUN'), ('was', 'VERB'), ('a', 'DET'), ('domineering', 'NOUN'), ('businessman', 'NOUN'), ('and', 'CONJ'), ('a', 'DET'), ('television', 'NOUN'), ('personality', 'NOUN'), ('.', '.'), ('The', 'DET'), ('2018', 'NUM'), ('FIFA', 'NOUN'), ('World', 'NOUN'), ('Cup', 'NOUN'), ('is', 'VERB'), ('the', 'DET'), ('21st', 'NOUN'), ('FIFA', 'NOUN'), ('World', 'NOUN'), ('Cup', 'NOUN'), (',', '.'), ('an', 'DET'), ('international', 'ADJ'), ('football', 'NOUN'), ('tournament', 'NOUN'), ('contested', 'NOUN'), ('once', 'ADV'), ('every', 'DET'), ('four', 'NUM'), ('years', 'NOUN'), ('.', '.'), ('This', 'DET'), ('is', 'VERB'), ('the', 'DET'), ('first', 'ADJ'), ('World', 'NOUN'), ('Cup', 'NOUN'), ('to', 'PRT'), ('be', 'VERB'), ('held', 'VERB'), ('in', 'ADP'), ('Eastern', 'NOUN'), ('Europe', 'NOUN'), ('and', 'CONJ'), ('the', 'DET'), ('11th', 'ADJ'), ('time', 'NOUN'), ('that', 'ADP'), ('it', 'PRON'), ('has', 'VERB'), ('been', 'VERB'), ('held', 'VERB'), ('in', 'ADP'), ('Europe', 'NOUN'), ('.', '.'), ('Show', 'NOUN'), ('me', 'PRON'), ('the', 'DET'), ('cheapest', 'ADJ'), ('round', 'NOUN'), ('trips', 'NOUN'), ('from', 'ADP'), ('Dallas', 'NOUN'), ('to', 'PRT'), ('Atlanta', 'NOUN'), ('I', 'PRON'), ('would', 'VERB'), ('like', 'ADP'), ('to', 'PRT'), ('see', 'VERB'), ('flights', 'NOUN'), ('from', 'ADP'), ('Denver', 'NOUN'), ('to', 'PRT'), ('Philadelphia', 'NOUN'), ('.', '.'), ('Show', 'NOUN'), ('me', 'PRON'), ('the', 'DET'), ('price', 'NOUN'), ('of', 'ADP'), ('the', 'DET'), ('flights', 'NOUN'), ('leaving', 'VERB'), ('Atlanta', 'NOUN'), ('at', 'ADP'), ('about', 'ADP'), ('3', 'NUM'), ('in', 'ADP'), ('the', 'DET'), ('afternoon', 'NOUN'), ('and', 'CONJ'), ('arriving', 'NOUN'), ('in', 'ADP'), ('San', 'NOUN'), ('Francisco', 'NOUN'), ('.', '.'), ('NASA', 'NOUN'), ('invited', 'NOUN'), ('social', 'ADJ'), ('media', 'NOUN'), ('users', 'NOUN'), ('to', 'PRT'), ('experience', 'NOUN'), ('the', 'DET'), ('launch', 'NOUN'), ('of', 'ADP'), ('ICESAT-2', 'NOUN'), ('Satellite', 'NOUN'), ('.', '.')]\n"
     ]
    }
   ],
   "source": [
    "updated_predicted_test_tagged_words_2 = updated_viterbi_2.tag(test_words)\n",
    "print(updated_predicted_test_tagged_words_2)"
   ]
  },
  {
   "cell_type": "markdown",
   "metadata": {},
   "source": [
    "## Compare the tagging accuracies of the modifications with the vanilla Viterbi algorithm"
   ]
  },
  {
   "cell_type": "markdown",
   "metadata": {},
   "source": [
    "### Checking accuracy with Vanilla Viterbi"
   ]
  },
  {
   "cell_type": "markdown",
   "metadata": {},
   "source": [
    "#### For validation data set"
   ]
  },
  {
   "cell_type": "code",
   "execution_count": 54,
   "metadata": {},
   "outputs": [
    {
     "name": "stdout",
     "output_type": "stream",
     "text": [
      "Accuracy : 0.9089303238469087\n"
     ]
    }
   ],
   "source": [
    "check_accuracy(default_predicted_validation_tagged_words, validation_tagged_words)"
   ]
  },
  {
   "cell_type": "markdown",
   "metadata": {},
   "source": [
    "#### For test data set"
   ]
  },
  {
   "cell_type": "code",
   "execution_count": 55,
   "metadata": {},
   "outputs": [
    {
     "name": "stdout",
     "output_type": "stream",
     "text": [
      "Accuracy : 0.7182320441988951\n"
     ]
    }
   ],
   "source": [
    "check_accuracy(default_predicted_test_tagged_words, test_tagged_words)"
   ]
  },
  {
   "cell_type": "markdown",
   "metadata": {},
   "source": [
    "### Checking accuracy with 1st Modified Viterbi"
   ]
  },
  {
   "cell_type": "markdown",
   "metadata": {},
   "source": [
    "#### For validation data set"
   ]
  },
  {
   "cell_type": "code",
   "execution_count": 56,
   "metadata": {},
   "outputs": [
    {
     "name": "stdout",
     "output_type": "stream",
     "text": [
      "Accuracy : 0.9377821393523061\n"
     ]
    }
   ],
   "source": [
    "check_accuracy(updated_predicted_validation_tagged_words_1, validation_tagged_words)"
   ]
  },
  {
   "cell_type": "markdown",
   "metadata": {},
   "source": [
    "#### For test data set"
   ]
  },
  {
   "cell_type": "code",
   "execution_count": 57,
   "metadata": {},
   "outputs": [
    {
     "name": "stdout",
     "output_type": "stream",
     "text": [
      "Accuracy : 0.8121546961325967\n"
     ]
    }
   ],
   "source": [
    "check_accuracy(updated_predicted_test_tagged_words_1, test_tagged_words)"
   ]
  },
  {
   "cell_type": "markdown",
   "metadata": {},
   "source": [
    "### Checking accuracy with 2nd Modified Viterbi"
   ]
  },
  {
   "cell_type": "markdown",
   "metadata": {},
   "source": [
    "#### For validation data set"
   ]
  },
  {
   "cell_type": "code",
   "execution_count": 58,
   "metadata": {},
   "outputs": [
    {
     "name": "stdout",
     "output_type": "stream",
     "text": [
      "Accuracy : 0.9444553483807655\n"
     ]
    }
   ],
   "source": [
    "check_accuracy(updated_predicted_validation_tagged_words_2, validation_tagged_words)"
   ]
  },
  {
   "cell_type": "markdown",
   "metadata": {},
   "source": [
    "#### For test data set"
   ]
  },
  {
   "cell_type": "code",
   "execution_count": 59,
   "metadata": {},
   "outputs": [
    {
     "name": "stdout",
     "output_type": "stream",
     "text": [
      "Accuracy : 0.8784530386740331\n"
     ]
    }
   ],
   "source": [
    "check_accuracy(updated_predicted_test_tagged_words_2, test_tagged_words)"
   ]
  },
  {
   "cell_type": "markdown",
   "metadata": {},
   "source": [
    "### List down cases which were incorrectly tagged by original POS tagger and got corrected by your modifications"
   ]
  },
  {
   "cell_type": "markdown",
   "metadata": {},
   "source": [
    "#### Vanilla Viterbi"
   ]
  },
  {
   "cell_type": "markdown",
   "metadata": {},
   "source": [
    "##### Most common incorrect test tagged cases"
   ]
  },
  {
   "cell_type": "code",
   "execution_count": 60,
   "metadata": {},
   "outputs": [
    {
     "name": "stdout",
     "output_type": "stream",
     "text": [
      "Total incorrect tag cases : 51\n",
      "Most common incorrect tagged sequence: \n",
      "\n",
      "Previous, Correct, Incorrect:\n"
     ]
    },
    {
     "data": {
      "text/plain": [
       "[(('NOUN', 'NOUN', '.'), 7),\n",
       " (('ADP', 'NOUN', '.'), 6),\n",
       " (('.', 'NOUN', '.'), 5),\n",
       " (('ADP', 'NUM', '.'), 3),\n",
       " (('NOUN', 'ADP', 'PRT'), 3),\n",
       " (('DET', 'ADJ', '.'), 3),\n",
       " (('NOUN', 'NOUN', 'PRON'), 3),\n",
       " (('ADJ', 'NOUN', '.'), 2),\n",
       " (('CONJ', 'VERB', '.'), 2),\n",
       " (('NOUN', 'VERB', '.'), 2)]"
      ]
     },
     "metadata": {},
     "output_type": "display_data"
    }
   ],
   "source": [
    "default_incorrect_test_tagged_cases = get_diff_bet_tagged_cases(default_predicted_test_tagged_words, \n",
    "                                                            test_tagged_words)\n",
    "\n",
    "default_most_common_test_incorrect_tags = get_most_common_diff_tags(default_incorrect_test_tagged_cases)"
   ]
  },
  {
   "cell_type": "markdown",
   "metadata": {},
   "source": [
    "#### 1st Modified Viterbi Algorithm"
   ]
  },
  {
   "cell_type": "markdown",
   "metadata": {},
   "source": [
    "##### Most common incorrect test tagged cases"
   ]
  },
  {
   "cell_type": "code",
   "execution_count": 61,
   "metadata": {},
   "outputs": [
    {
     "name": "stdout",
     "output_type": "stream",
     "text": [
      "Total incorrect tag cases : 34\n",
      "Most common incorrect tagged sequence: \n",
      "\n",
      "Previous, Correct, Incorrect:\n"
     ]
    },
    {
     "data": {
      "text/plain": [
       "[(('ADP', 'NOUN', 'DET'), 5),\n",
       " (('ADP', 'NUM', 'DET'), 3),\n",
       " (('NOUN', 'ADP', 'PRT'), 3),\n",
       " (('DET', 'ADJ', 'NOUN'), 3),\n",
       " (('NOUN', 'VERB', 'NOUN'), 3),\n",
       " (('NOUN', 'NOUN', 'PRON'), 3),\n",
       " (('CONJ', 'VERB', 'NOUN'), 2),\n",
       " (('ADJ', 'VERB', 'NOUN'), 1),\n",
       " (('NOUN', 'ADV', 'NOUN'), 1),\n",
       " (('NUM', 'ADJ', 'ADP'), 1)]"
      ]
     },
     "metadata": {},
     "output_type": "display_data"
    }
   ],
   "source": [
    "updated_incorrect_test_tagged_cases_1 = get_diff_bet_tagged_cases(updated_predicted_test_tagged_words_1, \n",
    "                                                            test_tagged_words)\n",
    "\n",
    "updated_most_common_test_incorrect_tags_1 = get_most_common_diff_tags(updated_incorrect_test_tagged_cases_1)"
   ]
  },
  {
   "cell_type": "markdown",
   "metadata": {},
   "source": [
    "##### Most common different tagged cases with Vanilla Viterbi"
   ]
  },
  {
   "cell_type": "code",
   "execution_count": 62,
   "metadata": {},
   "outputs": [
    {
     "name": "stdout",
     "output_type": "stream",
     "text": [
      "Total different tag cases : 38\n",
      "Most common different tagged sequence: \n",
      "\n",
      "Previous, Default, Predicted:\n"
     ]
    },
    {
     "data": {
      "text/plain": [
       "[(('.', '.', 'NOUN'), 11),\n",
       " (('ADP', '.', 'DET'), 8),\n",
       " (('NOUN', '.', 'NOUN'), 6),\n",
       " (('DET', '.', 'NOUN'), 4),\n",
       " (('CONJ', '.', 'NOUN'), 3),\n",
       " (('ADJ', '.', 'NOUN'), 1),\n",
       " (('.', 'DET', 'ADP'), 1),\n",
       " (('VERB', '.', 'X'), 1),\n",
       " (('PRT', '.', 'VERB'), 1),\n",
       " (('.', 'VERB', 'PRT'), 1)]"
      ]
     },
     "metadata": {},
     "output_type": "display_data"
    }
   ],
   "source": [
    "difference_with_default_test_tagged_cases_1 = get_diff_bet_tagged_cases(updated_predicted_test_tagged_words_1, \n",
    "                                                            default_predicted_test_tagged_words, False)\n",
    "\n",
    "most_common_difference_with_default_test_tags_1 = get_most_common_diff_tags(\n",
    "    difference_with_default_test_tagged_cases_1, comparing_incorrect = False)"
   ]
  },
  {
   "cell_type": "markdown",
   "metadata": {},
   "source": [
    "##### Comparison of updated POS tag vs Vanilla Viterbi"
   ]
  },
  {
   "cell_type": "code",
   "execution_count": 63,
   "metadata": {},
   "outputs": [
    {
     "name": "stdout",
     "output_type": "stream",
     "text": [
      "Total updated correct tag cases : 17\n",
      "Previous, Default, Correct\n"
     ]
    },
    {
     "data": {
      "text/plain": [
       "[(('.', '.'), ('Android', '.'), ('Android', 'NOUN')),\n",
       " (('.', '.'), ('Android', '.'), ('Android', 'NOUN')),\n",
       " (('best-selling', 'ADJ'), ('OS', '.'), ('OS', 'NOUN')),\n",
       " (('.', '.'), ('Google', '.'), ('Google', 'NOUN')),\n",
       " (('and', 'CONJ'), ('Twitter', '.'), ('Twitter', 'NOUN')),\n",
       " (('Twitter', '.'), (\"'s\", 'VERB'), (\"'s\", 'PRT')),\n",
       " (('.', '.'), ('Twitter', '.'), ('Twitter', 'NOUN')),\n",
       " (('television', 'NOUN'), ('personality', '.'), ('personality', 'NOUN')),\n",
       " (('2018', '.'), ('FIFA', '.'), ('FIFA', 'NOUN')),\n",
       " (('World', 'NOUN'), ('Cup', '.'), ('Cup', 'NOUN')),\n",
       " (('21st', '.'), ('FIFA', '.'), ('FIFA', 'NOUN')),\n",
       " (('World', 'NOUN'), ('Cup', '.'), ('Cup', 'NOUN')),\n",
       " (('football', 'NOUN'), ('tournament', '.'), ('tournament', 'NOUN')),\n",
       " (('World', 'NOUN'), ('Cup', '.'), ('Cup', 'NOUN')),\n",
       " (('round', 'NOUN'), ('trips', '.'), ('trips', 'NOUN')),\n",
       " (('.', '.'), ('NASA', '.'), ('NASA', 'NOUN')),\n",
       " (('ICESAT-2', '.'), ('Satellite', '.'), ('Satellite', 'NOUN'))]"
      ]
     },
     "metadata": {},
     "output_type": "display_data"
    },
    {
     "name": "stdout",
     "output_type": "stream",
     "text": [
      "Total updated incorrect tag cases : 21\n",
      "Previous, Default, Incorrect\n"
     ]
    },
    {
     "data": {
      "text/plain": [
       "[(('by', 'ADP'), ('Google', '.'), ('Google', 'DET')),\n",
       " (('OS', '.'), ('worldwide', '.'), ('worldwide', 'NOUN')),\n",
       " (('on', 'ADP'), ('smartphones', '.'), ('smartphones', 'DET')),\n",
       " (('since', 'ADP'), ('2011', '.'), ('2011', 'DET')),\n",
       " (('since', 'ADP'), ('2013', '.'), ('2013', 'DET')),\n",
       " (('in', 'ADP'), ('2015', '.'), ('2015', 'DET')),\n",
       " (('2015', '.'), ('that', 'DET'), ('that', 'ADP')),\n",
       " (('gave', 'VERB'), ('Google', '.'), ('Google', 'X')),\n",
       " (('to', 'PRT'), ('Twitter', '.'), ('Twitter', 'VERB')),\n",
       " ((\"'s\", 'VERB'), ('firehose', '.'), ('firehose', 'VERB')),\n",
       " (('an', 'DET'), ('online', '.'), ('online', 'NOUN')),\n",
       " (('and', 'CONJ'), ('interact', '.'), ('interact', 'NOUN')),\n",
       " (('with', 'ADP'), ('messages', '.'), ('messages', 'DET')),\n",
       " (('as', 'ADP'), ('tweets', '.'), ('tweets', 'DET')),\n",
       " (('a', 'DET'), ('domineering', '.'), ('domineering', 'NOUN')),\n",
       " (('The', 'DET'), ('2018', '.'), ('2018', 'NOUN')),\n",
       " (('the', 'DET'), ('21st', '.'), ('21st', 'NOUN')),\n",
       " (('tournament', '.'), ('contested', '.'), ('contested', 'NOUN')),\n",
       " (('and', 'CONJ'), ('arriving', '.'), ('arriving', 'NOUN')),\n",
       " (('NASA', '.'), ('invited', '.'), ('invited', 'NOUN')),\n",
       " (('of', 'ADP'), ('ICESAT-2', '.'), ('ICESAT-2', 'DET'))]"
      ]
     },
     "metadata": {},
     "output_type": "display_data"
    }
   ],
   "source": [
    "find_metrics_for_updated_viterbi(updated_incorrect_test_tagged_cases_1, difference_with_default_test_tagged_cases_1)  "
   ]
  },
  {
   "cell_type": "markdown",
   "metadata": {},
   "source": [
    "#### 2nd Modified Viterbi Algorithm"
   ]
  },
  {
   "cell_type": "markdown",
   "metadata": {},
   "source": [
    "##### Most common incorrect test tagged cases"
   ]
  },
  {
   "cell_type": "code",
   "execution_count": 64,
   "metadata": {},
   "outputs": [
    {
     "name": "stdout",
     "output_type": "stream",
     "text": [
      "Total incorrect tag cases : 22\n",
      "Most common incorrect tagged sequence: \n",
      "\n",
      "Previous, Correct, Incorrect:\n"
     ]
    },
    {
     "data": {
      "text/plain": [
       "[(('NOUN', 'ADP', 'PRT'), 3),\n",
       " (('DET', 'ADJ', 'NOUN'), 3),\n",
       " (('NOUN', 'VERB', 'NOUN'), 3),\n",
       " (('NOUN', 'NOUN', 'PRON'), 3),\n",
       " (('CONJ', 'VERB', 'NOUN'), 2),\n",
       " (('ADJ', 'VERB', 'NOUN'), 1),\n",
       " (('NOUN', 'ADV', 'NOUN'), 1),\n",
       " (('NUM', 'ADJ', 'ADP'), 1),\n",
       " (('ADP', 'ADJ', 'DET'), 1),\n",
       " (('NOUN', 'ADJ', 'ADP'), 1)]"
      ]
     },
     "metadata": {},
     "output_type": "display_data"
    }
   ],
   "source": [
    "updated_incorrect_test_tagged_cases_2 = get_diff_bet_tagged_cases(updated_predicted_test_tagged_words_2, \n",
    "                                                            test_tagged_words)\n",
    "\n",
    "updated_most_common_test_incorrect_tags_2 = get_most_common_diff_tags(updated_incorrect_test_tagged_cases_2)"
   ]
  },
  {
   "cell_type": "markdown",
   "metadata": {},
   "source": [
    "##### Most common different tagged cases with Vanilla Viterbi"
   ]
  },
  {
   "cell_type": "code",
   "execution_count": 65,
   "metadata": {},
   "outputs": [
    {
     "name": "stdout",
     "output_type": "stream",
     "text": [
      "Total different tag cases : 38\n",
      "Most common different tagged sequence: \n",
      "\n",
      "Previous, Default, Predicted:\n"
     ]
    },
    {
     "data": {
      "text/plain": [
       "[(('.', '.', 'NOUN'), 11),\n",
       " (('NOUN', '.', 'NOUN'), 6),\n",
       " (('ADP', '.', 'NOUN'), 5),\n",
       " (('ADP', '.', 'NUM'), 3),\n",
       " (('CONJ', '.', 'NOUN'), 3),\n",
       " (('DET', '.', 'NOUN'), 3),\n",
       " (('VERB', '.', 'NOUN'), 2),\n",
       " (('ADJ', '.', 'NOUN'), 1),\n",
       " (('.', 'DET', 'ADP'), 1),\n",
       " (('PRT', '.', 'NOUN'), 1)]"
      ]
     },
     "metadata": {},
     "output_type": "display_data"
    }
   ],
   "source": [
    "difference_with_default_test_tagged_cases_2 = get_diff_bet_tagged_cases(updated_predicted_test_tagged_words_2, \n",
    "                                                            default_predicted_test_tagged_words, False)\n",
    "\n",
    "most_common_difference_with_default_test_tags_2 = get_most_common_diff_tags(\n",
    "    difference_with_default_test_tagged_cases_2, comparing_incorrect = False)"
   ]
  },
  {
   "cell_type": "markdown",
   "metadata": {},
   "source": [
    "##### Comparison of updated POS tag vs Vanilla Viterbi"
   ]
  },
  {
   "cell_type": "code",
   "execution_count": 66,
   "metadata": {},
   "outputs": [
    {
     "name": "stdout",
     "output_type": "stream",
     "text": [
      "Total updated correct tag cases : 29\n",
      "Previous, Default, Correct\n"
     ]
    },
    {
     "data": {
      "text/plain": [
       "[(('.', '.'), ('Android', '.'), ('Android', 'NOUN')),\n",
       " (('by', 'ADP'), ('Google', '.'), ('Google', 'NOUN')),\n",
       " (('.', '.'), ('Android', '.'), ('Android', 'NOUN')),\n",
       " (('best-selling', 'ADJ'), ('OS', '.'), ('OS', 'NOUN')),\n",
       " (('on', 'ADP'), ('smartphones', '.'), ('smartphones', 'NOUN')),\n",
       " (('since', 'ADP'), ('2011', '.'), ('2011', 'NUM')),\n",
       " (('since', 'ADP'), ('2013', '.'), ('2013', 'NUM')),\n",
       " (('.', '.'), ('Google', '.'), ('Google', 'NOUN')),\n",
       " (('and', 'CONJ'), ('Twitter', '.'), ('Twitter', 'NOUN')),\n",
       " (('in', 'ADP'), ('2015', '.'), ('2015', 'NUM')),\n",
       " (('gave', 'VERB'), ('Google', '.'), ('Google', 'NOUN')),\n",
       " (('to', 'PRT'), ('Twitter', '.'), ('Twitter', 'NOUN')),\n",
       " (('Twitter', '.'), (\"'s\", 'VERB'), (\"'s\", 'PRT')),\n",
       " ((\"'s\", 'VERB'), ('firehose', '.'), ('firehose', 'NOUN')),\n",
       " (('.', '.'), ('Twitter', '.'), ('Twitter', 'NOUN')),\n",
       " (('with', 'ADP'), ('messages', '.'), ('messages', 'NOUN')),\n",
       " (('as', 'ADP'), ('tweets', '.'), ('tweets', 'NOUN')),\n",
       " (('television', 'NOUN'), ('personality', '.'), ('personality', 'NOUN')),\n",
       " (('The', 'DET'), ('2018', '.'), ('2018', 'NUM')),\n",
       " (('2018', '.'), ('FIFA', '.'), ('FIFA', 'NOUN')),\n",
       " (('World', 'NOUN'), ('Cup', '.'), ('Cup', 'NOUN')),\n",
       " (('21st', '.'), ('FIFA', '.'), ('FIFA', 'NOUN')),\n",
       " (('World', 'NOUN'), ('Cup', '.'), ('Cup', 'NOUN')),\n",
       " (('football', 'NOUN'), ('tournament', '.'), ('tournament', 'NOUN')),\n",
       " (('World', 'NOUN'), ('Cup', '.'), ('Cup', 'NOUN')),\n",
       " (('round', 'NOUN'), ('trips', '.'), ('trips', 'NOUN')),\n",
       " (('.', '.'), ('NASA', '.'), ('NASA', 'NOUN')),\n",
       " (('of', 'ADP'), ('ICESAT-2', '.'), ('ICESAT-2', 'NOUN')),\n",
       " (('ICESAT-2', '.'), ('Satellite', '.'), ('Satellite', 'NOUN'))]"
      ]
     },
     "metadata": {},
     "output_type": "display_data"
    },
    {
     "name": "stdout",
     "output_type": "stream",
     "text": [
      "Total updated incorrect tag cases : 9\n",
      "Previous, Default, Incorrect\n"
     ]
    },
    {
     "data": {
      "text/plain": [
       "[(('OS', '.'), ('worldwide', '.'), ('worldwide', 'NOUN')),\n",
       " (('2015', '.'), ('that', 'DET'), ('that', 'ADP')),\n",
       " (('an', 'DET'), ('online', '.'), ('online', 'NOUN')),\n",
       " (('and', 'CONJ'), ('interact', '.'), ('interact', 'NOUN')),\n",
       " (('a', 'DET'), ('domineering', '.'), ('domineering', 'NOUN')),\n",
       " (('the', 'DET'), ('21st', '.'), ('21st', 'NOUN')),\n",
       " (('tournament', '.'), ('contested', '.'), ('contested', 'NOUN')),\n",
       " (('and', 'CONJ'), ('arriving', '.'), ('arriving', 'NOUN')),\n",
       " (('NASA', '.'), ('invited', '.'), ('invited', 'NOUN'))]"
      ]
     },
     "metadata": {},
     "output_type": "display_data"
    }
   ],
   "source": [
    "find_metrics_for_updated_viterbi(updated_incorrect_test_tagged_cases_2, difference_with_default_test_tagged_cases_2)  "
   ]
  }
 ],
 "metadata": {
  "kernelspec": {
   "display_name": "Python 3",
   "language": "python",
   "name": "python3"
  },
  "language_info": {
   "codemirror_mode": {
    "name": "ipython",
    "version": 3
   },
   "file_extension": ".py",
   "mimetype": "text/x-python",
   "name": "python",
   "nbconvert_exporter": "python",
   "pygments_lexer": "ipython3",
   "version": "3.7.3"
  }
 },
 "nbformat": 4,
 "nbformat_minor": 2
}
